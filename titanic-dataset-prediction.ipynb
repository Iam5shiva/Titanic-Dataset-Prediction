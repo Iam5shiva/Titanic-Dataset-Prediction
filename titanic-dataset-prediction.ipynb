{
 "cells": [
  {
   "cell_type": "code",
   "execution_count": 1,
   "id": "divided-exposure",
   "metadata": {
    "execution": {
     "iopub.execute_input": "2022-03-01T10:39:06.835333Z",
     "iopub.status.busy": "2022-03-01T10:39:06.834553Z",
     "iopub.status.idle": "2022-03-01T10:39:08.127494Z",
     "shell.execute_reply": "2022-03-01T10:39:08.127953Z",
     "shell.execute_reply.started": "2022-03-01T10:35:00.891102Z"
    },
    "papermill": {
     "duration": 1.352775,
     "end_time": "2022-03-01T10:39:08.128280",
     "exception": false,
     "start_time": "2022-03-01T10:39:06.775505",
     "status": "completed"
    },
    "tags": []
   },
   "outputs": [],
   "source": [
    "#importing libraries\n",
    "import numpy as np\n",
    "import pandas as pd\n",
    "import matplotlib.pyplot as plt\n",
    "import seaborn as sns\n",
    "from sklearn.impute import SimpleImputer\n",
    "from sklearn.preprocessing import OneHotEncoder"
   ]
  },
  {
   "cell_type": "code",
   "execution_count": 2,
   "id": "abstract-carter",
   "metadata": {
    "execution": {
     "iopub.execute_input": "2022-03-01T10:39:08.229357Z",
     "iopub.status.busy": "2022-03-01T10:39:08.228738Z",
     "iopub.status.idle": "2022-03-01T10:39:08.257394Z",
     "shell.execute_reply": "2022-03-01T10:39:08.257863Z",
     "shell.execute_reply.started": "2022-03-01T10:35:02.668404Z"
    },
    "papermill": {
     "duration": 0.082464,
     "end_time": "2022-03-01T10:39:08.258033",
     "exception": false,
     "start_time": "2022-03-01T10:39:08.175569",
     "status": "completed"
    },
    "tags": []
   },
   "outputs": [],
   "source": [
    "#importing datasets\n",
    "train_data = pd.read_csv('../input/titanic/train.csv')\n",
    "test_data = pd.read_csv('../input/titanic/test.csv')"
   ]
  },
  {
   "cell_type": "code",
   "execution_count": 3,
   "id": "modern-weather",
   "metadata": {
    "execution": {
     "iopub.execute_input": "2022-03-01T10:39:08.358520Z",
     "iopub.status.busy": "2022-03-01T10:39:08.357925Z",
     "iopub.status.idle": "2022-03-01T10:39:08.390178Z",
     "shell.execute_reply": "2022-03-01T10:39:08.390888Z",
     "shell.execute_reply.started": "2022-03-01T10:35:03.109892Z"
    },
    "papermill": {
     "duration": 0.08429,
     "end_time": "2022-03-01T10:39:08.391087",
     "exception": false,
     "start_time": "2022-03-01T10:39:08.306797",
     "status": "completed"
    },
    "tags": []
   },
   "outputs": [
    {
     "data": {
      "text/html": [
       "<div>\n",
       "<style scoped>\n",
       "    .dataframe tbody tr th:only-of-type {\n",
       "        vertical-align: middle;\n",
       "    }\n",
       "\n",
       "    .dataframe tbody tr th {\n",
       "        vertical-align: top;\n",
       "    }\n",
       "\n",
       "    .dataframe thead th {\n",
       "        text-align: right;\n",
       "    }\n",
       "</style>\n",
       "<table border=\"1\" class=\"dataframe\">\n",
       "  <thead>\n",
       "    <tr style=\"text-align: right;\">\n",
       "      <th></th>\n",
       "      <th>PassengerId</th>\n",
       "      <th>Survived</th>\n",
       "      <th>Pclass</th>\n",
       "      <th>Name</th>\n",
       "      <th>Sex</th>\n",
       "      <th>Age</th>\n",
       "      <th>SibSp</th>\n",
       "      <th>Parch</th>\n",
       "      <th>Ticket</th>\n",
       "      <th>Fare</th>\n",
       "      <th>Cabin</th>\n",
       "      <th>Embarked</th>\n",
       "    </tr>\n",
       "  </thead>\n",
       "  <tbody>\n",
       "    <tr>\n",
       "      <th>0</th>\n",
       "      <td>1</td>\n",
       "      <td>0</td>\n",
       "      <td>3</td>\n",
       "      <td>Braund, Mr. Owen Harris</td>\n",
       "      <td>male</td>\n",
       "      <td>22.0</td>\n",
       "      <td>1</td>\n",
       "      <td>0</td>\n",
       "      <td>A/5 21171</td>\n",
       "      <td>7.2500</td>\n",
       "      <td>NaN</td>\n",
       "      <td>S</td>\n",
       "    </tr>\n",
       "    <tr>\n",
       "      <th>1</th>\n",
       "      <td>2</td>\n",
       "      <td>1</td>\n",
       "      <td>1</td>\n",
       "      <td>Cumings, Mrs. John Bradley (Florence Briggs Th...</td>\n",
       "      <td>female</td>\n",
       "      <td>38.0</td>\n",
       "      <td>1</td>\n",
       "      <td>0</td>\n",
       "      <td>PC 17599</td>\n",
       "      <td>71.2833</td>\n",
       "      <td>C85</td>\n",
       "      <td>C</td>\n",
       "    </tr>\n",
       "    <tr>\n",
       "      <th>2</th>\n",
       "      <td>3</td>\n",
       "      <td>1</td>\n",
       "      <td>3</td>\n",
       "      <td>Heikkinen, Miss. Laina</td>\n",
       "      <td>female</td>\n",
       "      <td>26.0</td>\n",
       "      <td>0</td>\n",
       "      <td>0</td>\n",
       "      <td>STON/O2. 3101282</td>\n",
       "      <td>7.9250</td>\n",
       "      <td>NaN</td>\n",
       "      <td>S</td>\n",
       "    </tr>\n",
       "    <tr>\n",
       "      <th>3</th>\n",
       "      <td>4</td>\n",
       "      <td>1</td>\n",
       "      <td>1</td>\n",
       "      <td>Futrelle, Mrs. Jacques Heath (Lily May Peel)</td>\n",
       "      <td>female</td>\n",
       "      <td>35.0</td>\n",
       "      <td>1</td>\n",
       "      <td>0</td>\n",
       "      <td>113803</td>\n",
       "      <td>53.1000</td>\n",
       "      <td>C123</td>\n",
       "      <td>S</td>\n",
       "    </tr>\n",
       "    <tr>\n",
       "      <th>4</th>\n",
       "      <td>5</td>\n",
       "      <td>0</td>\n",
       "      <td>3</td>\n",
       "      <td>Allen, Mr. William Henry</td>\n",
       "      <td>male</td>\n",
       "      <td>35.0</td>\n",
       "      <td>0</td>\n",
       "      <td>0</td>\n",
       "      <td>373450</td>\n",
       "      <td>8.0500</td>\n",
       "      <td>NaN</td>\n",
       "      <td>S</td>\n",
       "    </tr>\n",
       "  </tbody>\n",
       "</table>\n",
       "</div>"
      ],
      "text/plain": [
       "   PassengerId  Survived  Pclass  \\\n",
       "0            1         0       3   \n",
       "1            2         1       1   \n",
       "2            3         1       3   \n",
       "3            4         1       1   \n",
       "4            5         0       3   \n",
       "\n",
       "                                                Name     Sex   Age  SibSp  \\\n",
       "0                            Braund, Mr. Owen Harris    male  22.0      1   \n",
       "1  Cumings, Mrs. John Bradley (Florence Briggs Th...  female  38.0      1   \n",
       "2                             Heikkinen, Miss. Laina  female  26.0      0   \n",
       "3       Futrelle, Mrs. Jacques Heath (Lily May Peel)  female  35.0      1   \n",
       "4                           Allen, Mr. William Henry    male  35.0      0   \n",
       "\n",
       "   Parch            Ticket     Fare Cabin Embarked  \n",
       "0      0         A/5 21171   7.2500   NaN        S  \n",
       "1      0          PC 17599  71.2833   C85        C  \n",
       "2      0  STON/O2. 3101282   7.9250   NaN        S  \n",
       "3      0            113803  53.1000  C123        S  \n",
       "4      0            373450   8.0500   NaN        S  "
      ]
     },
     "execution_count": 3,
     "metadata": {},
     "output_type": "execute_result"
    }
   ],
   "source": [
    "train_data.head()"
   ]
  },
  {
   "cell_type": "code",
   "execution_count": 4,
   "id": "floppy-financing",
   "metadata": {
    "execution": {
     "iopub.execute_input": "2022-03-01T10:39:08.494253Z",
     "iopub.status.busy": "2022-03-01T10:39:08.493504Z",
     "iopub.status.idle": "2022-03-01T10:39:08.510045Z",
     "shell.execute_reply": "2022-03-01T10:39:08.509302Z",
     "shell.execute_reply.started": "2022-03-01T10:35:03.468184Z"
    },
    "papermill": {
     "duration": 0.069752,
     "end_time": "2022-03-01T10:39:08.510430",
     "exception": false,
     "start_time": "2022-03-01T10:39:08.440678",
     "status": "completed"
    },
    "tags": []
   },
   "outputs": [
    {
     "data": {
      "text/html": [
       "<div>\n",
       "<style scoped>\n",
       "    .dataframe tbody tr th:only-of-type {\n",
       "        vertical-align: middle;\n",
       "    }\n",
       "\n",
       "    .dataframe tbody tr th {\n",
       "        vertical-align: top;\n",
       "    }\n",
       "\n",
       "    .dataframe thead th {\n",
       "        text-align: right;\n",
       "    }\n",
       "</style>\n",
       "<table border=\"1\" class=\"dataframe\">\n",
       "  <thead>\n",
       "    <tr style=\"text-align: right;\">\n",
       "      <th></th>\n",
       "      <th>PassengerId</th>\n",
       "      <th>Pclass</th>\n",
       "      <th>Name</th>\n",
       "      <th>Sex</th>\n",
       "      <th>Age</th>\n",
       "      <th>SibSp</th>\n",
       "      <th>Parch</th>\n",
       "      <th>Ticket</th>\n",
       "      <th>Fare</th>\n",
       "      <th>Cabin</th>\n",
       "      <th>Embarked</th>\n",
       "    </tr>\n",
       "  </thead>\n",
       "  <tbody>\n",
       "    <tr>\n",
       "      <th>0</th>\n",
       "      <td>892</td>\n",
       "      <td>3</td>\n",
       "      <td>Kelly, Mr. James</td>\n",
       "      <td>male</td>\n",
       "      <td>34.5</td>\n",
       "      <td>0</td>\n",
       "      <td>0</td>\n",
       "      <td>330911</td>\n",
       "      <td>7.8292</td>\n",
       "      <td>NaN</td>\n",
       "      <td>Q</td>\n",
       "    </tr>\n",
       "    <tr>\n",
       "      <th>1</th>\n",
       "      <td>893</td>\n",
       "      <td>3</td>\n",
       "      <td>Wilkes, Mrs. James (Ellen Needs)</td>\n",
       "      <td>female</td>\n",
       "      <td>47.0</td>\n",
       "      <td>1</td>\n",
       "      <td>0</td>\n",
       "      <td>363272</td>\n",
       "      <td>7.0000</td>\n",
       "      <td>NaN</td>\n",
       "      <td>S</td>\n",
       "    </tr>\n",
       "    <tr>\n",
       "      <th>2</th>\n",
       "      <td>894</td>\n",
       "      <td>2</td>\n",
       "      <td>Myles, Mr. Thomas Francis</td>\n",
       "      <td>male</td>\n",
       "      <td>62.0</td>\n",
       "      <td>0</td>\n",
       "      <td>0</td>\n",
       "      <td>240276</td>\n",
       "      <td>9.6875</td>\n",
       "      <td>NaN</td>\n",
       "      <td>Q</td>\n",
       "    </tr>\n",
       "    <tr>\n",
       "      <th>3</th>\n",
       "      <td>895</td>\n",
       "      <td>3</td>\n",
       "      <td>Wirz, Mr. Albert</td>\n",
       "      <td>male</td>\n",
       "      <td>27.0</td>\n",
       "      <td>0</td>\n",
       "      <td>0</td>\n",
       "      <td>315154</td>\n",
       "      <td>8.6625</td>\n",
       "      <td>NaN</td>\n",
       "      <td>S</td>\n",
       "    </tr>\n",
       "    <tr>\n",
       "      <th>4</th>\n",
       "      <td>896</td>\n",
       "      <td>3</td>\n",
       "      <td>Hirvonen, Mrs. Alexander (Helga E Lindqvist)</td>\n",
       "      <td>female</td>\n",
       "      <td>22.0</td>\n",
       "      <td>1</td>\n",
       "      <td>1</td>\n",
       "      <td>3101298</td>\n",
       "      <td>12.2875</td>\n",
       "      <td>NaN</td>\n",
       "      <td>S</td>\n",
       "    </tr>\n",
       "  </tbody>\n",
       "</table>\n",
       "</div>"
      ],
      "text/plain": [
       "   PassengerId  Pclass                                          Name     Sex  \\\n",
       "0          892       3                              Kelly, Mr. James    male   \n",
       "1          893       3              Wilkes, Mrs. James (Ellen Needs)  female   \n",
       "2          894       2                     Myles, Mr. Thomas Francis    male   \n",
       "3          895       3                              Wirz, Mr. Albert    male   \n",
       "4          896       3  Hirvonen, Mrs. Alexander (Helga E Lindqvist)  female   \n",
       "\n",
       "    Age  SibSp  Parch   Ticket     Fare Cabin Embarked  \n",
       "0  34.5      0      0   330911   7.8292   NaN        Q  \n",
       "1  47.0      1      0   363272   7.0000   NaN        S  \n",
       "2  62.0      0      0   240276   9.6875   NaN        Q  \n",
       "3  27.0      0      0   315154   8.6625   NaN        S  \n",
       "4  22.0      1      1  3101298  12.2875   NaN        S  "
      ]
     },
     "execution_count": 4,
     "metadata": {},
     "output_type": "execute_result"
    }
   ],
   "source": [
    "test_data.head()"
   ]
  },
  {
   "cell_type": "code",
   "execution_count": 5,
   "id": "fiscal-iceland",
   "metadata": {
    "execution": {
     "iopub.execute_input": "2022-03-01T10:39:08.618592Z",
     "iopub.status.busy": "2022-03-01T10:39:08.617902Z",
     "iopub.status.idle": "2022-03-01T10:39:08.621347Z",
     "shell.execute_reply": "2022-03-01T10:39:08.621746Z",
     "shell.execute_reply.started": "2022-03-01T10:35:03.753193Z"
    },
    "papermill": {
     "duration": 0.059337,
     "end_time": "2022-03-01T10:39:08.621947",
     "exception": false,
     "start_time": "2022-03-01T10:39:08.562610",
     "status": "completed"
    },
    "tags": []
   },
   "outputs": [
    {
     "data": {
      "text/plain": [
       "(891, 12)"
      ]
     },
     "execution_count": 5,
     "metadata": {},
     "output_type": "execute_result"
    }
   ],
   "source": [
    "train_data.shape"
   ]
  },
  {
   "cell_type": "code",
   "execution_count": 6,
   "id": "genuine-clause",
   "metadata": {
    "execution": {
     "iopub.execute_input": "2022-03-01T10:39:08.753431Z",
     "iopub.status.busy": "2022-03-01T10:39:08.734370Z",
     "iopub.status.idle": "2022-03-01T10:39:08.761589Z",
     "shell.execute_reply": "2022-03-01T10:39:08.760012Z",
     "shell.execute_reply.started": "2022-03-01T10:35:04.027554Z"
    },
    "papermill": {
     "duration": 0.089213,
     "end_time": "2022-03-01T10:39:08.761870",
     "exception": false,
     "start_time": "2022-03-01T10:39:08.672657",
     "status": "completed"
    },
    "tags": []
   },
   "outputs": [
    {
     "name": "stdout",
     "output_type": "stream",
     "text": [
      "<class 'pandas.core.frame.DataFrame'>\n",
      "RangeIndex: 891 entries, 0 to 890\n",
      "Data columns (total 12 columns):\n",
      " #   Column       Non-Null Count  Dtype  \n",
      "---  ------       --------------  -----  \n",
      " 0   PassengerId  891 non-null    int64  \n",
      " 1   Survived     891 non-null    int64  \n",
      " 2   Pclass       891 non-null    int64  \n",
      " 3   Name         891 non-null    object \n",
      " 4   Sex          891 non-null    object \n",
      " 5   Age          714 non-null    float64\n",
      " 6   SibSp        891 non-null    int64  \n",
      " 7   Parch        891 non-null    int64  \n",
      " 8   Ticket       891 non-null    object \n",
      " 9   Fare         891 non-null    float64\n",
      " 10  Cabin        204 non-null    object \n",
      " 11  Embarked     889 non-null    object \n",
      "dtypes: float64(2), int64(5), object(5)\n",
      "memory usage: 83.7+ KB\n"
     ]
    }
   ],
   "source": [
    "train_data.info()"
   ]
  },
  {
   "cell_type": "code",
   "execution_count": 7,
   "id": "median-concert",
   "metadata": {
    "execution": {
     "iopub.execute_input": "2022-03-01T10:39:08.877359Z",
     "iopub.status.busy": "2022-03-01T10:39:08.876655Z",
     "iopub.status.idle": "2022-03-01T10:39:08.880633Z",
     "shell.execute_reply": "2022-03-01T10:39:08.880001Z",
     "shell.execute_reply.started": "2022-03-01T10:35:04.427234Z"
    },
    "papermill": {
     "duration": 0.0649,
     "end_time": "2022-03-01T10:39:08.880803",
     "exception": false,
     "start_time": "2022-03-01T10:39:08.815903",
     "status": "completed"
    },
    "tags": []
   },
   "outputs": [
    {
     "data": {
      "text/plain": [
       "PassengerId      0\n",
       "Survived         0\n",
       "Pclass           0\n",
       "Name             0\n",
       "Sex              0\n",
       "Age            177\n",
       "SibSp            0\n",
       "Parch            0\n",
       "Ticket           0\n",
       "Fare             0\n",
       "Cabin          687\n",
       "Embarked         2\n",
       "dtype: int64"
      ]
     },
     "execution_count": 7,
     "metadata": {},
     "output_type": "execute_result"
    }
   ],
   "source": [
    "train_data.isnull().sum()"
   ]
  },
  {
   "cell_type": "code",
   "execution_count": 8,
   "id": "arctic-acrylic",
   "metadata": {
    "execution": {
     "iopub.execute_input": "2022-03-01T10:39:08.993492Z",
     "iopub.status.busy": "2022-03-01T10:39:08.987908Z",
     "iopub.status.idle": "2022-03-01T10:39:08.998204Z",
     "shell.execute_reply": "2022-03-01T10:39:08.997631Z",
     "shell.execute_reply.started": "2022-03-01T10:35:04.739959Z"
    },
    "papermill": {
     "duration": 0.065809,
     "end_time": "2022-03-01T10:39:08.998348",
     "exception": false,
     "start_time": "2022-03-01T10:39:08.932539",
     "status": "completed"
    },
    "tags": []
   },
   "outputs": [
    {
     "data": {
      "text/plain": [
       "PassengerId      0\n",
       "Pclass           0\n",
       "Name             0\n",
       "Sex              0\n",
       "Age             86\n",
       "SibSp            0\n",
       "Parch            0\n",
       "Ticket           0\n",
       "Fare             1\n",
       "Cabin          327\n",
       "Embarked         0\n",
       "dtype: int64"
      ]
     },
     "execution_count": 8,
     "metadata": {},
     "output_type": "execute_result"
    }
   ],
   "source": [
    "test_data.isnull().sum()"
   ]
  },
  {
   "cell_type": "code",
   "execution_count": 9,
   "id": "scientific-execution",
   "metadata": {
    "execution": {
     "iopub.execute_input": "2022-03-01T10:39:09.110325Z",
     "iopub.status.busy": "2022-03-01T10:39:09.109689Z",
     "iopub.status.idle": "2022-03-01T10:39:09.112699Z",
     "shell.execute_reply": "2022-03-01T10:39:09.112050Z",
     "shell.execute_reply.started": "2022-03-01T10:35:05.090155Z"
    },
    "papermill": {
     "duration": 0.061315,
     "end_time": "2022-03-01T10:39:09.112836",
     "exception": false,
     "start_time": "2022-03-01T10:39:09.051521",
     "status": "completed"
    },
    "tags": []
   },
   "outputs": [],
   "source": [
    "train_data.drop(['Name','Ticket'],axis=1,inplace=True)"
   ]
  },
  {
   "cell_type": "code",
   "execution_count": 10,
   "id": "compressed-cowboy",
   "metadata": {
    "execution": {
     "iopub.execute_input": "2022-03-01T10:39:09.220353Z",
     "iopub.status.busy": "2022-03-01T10:39:09.219779Z",
     "iopub.status.idle": "2022-03-01T10:39:09.226625Z",
     "shell.execute_reply": "2022-03-01T10:39:09.227106Z",
     "shell.execute_reply.started": "2022-03-01T10:35:05.357043Z"
    },
    "papermill": {
     "duration": 0.061441,
     "end_time": "2022-03-01T10:39:09.227282",
     "exception": false,
     "start_time": "2022-03-01T10:39:09.165841",
     "status": "completed"
    },
    "tags": []
   },
   "outputs": [],
   "source": [
    "test_data.drop(['Name','Ticket'],axis=1,inplace=True)"
   ]
  },
  {
   "cell_type": "code",
   "execution_count": 11,
   "id": "latin-modem",
   "metadata": {
    "execution": {
     "iopub.execute_input": "2022-03-01T10:39:09.332848Z",
     "iopub.status.busy": "2022-03-01T10:39:09.332162Z",
     "iopub.status.idle": "2022-03-01T10:39:09.336283Z",
     "shell.execute_reply": "2022-03-01T10:39:09.336696Z",
     "shell.execute_reply.started": "2022-03-01T10:35:05.587451Z"
    },
    "papermill": {
     "duration": 0.060135,
     "end_time": "2022-03-01T10:39:09.336864",
     "exception": false,
     "start_time": "2022-03-01T10:39:09.276729",
     "status": "completed"
    },
    "tags": []
   },
   "outputs": [
    {
     "data": {
      "text/plain": [
       "19.865319865319865"
      ]
     },
     "execution_count": 11,
     "metadata": {},
     "output_type": "execute_result"
    }
   ],
   "source": [
    "(train_data['Age'].isnull().sum())/len(train_data)*100"
   ]
  },
  {
   "cell_type": "code",
   "execution_count": 12,
   "id": "later-knight",
   "metadata": {
    "execution": {
     "iopub.execute_input": "2022-03-01T10:39:09.443043Z",
     "iopub.status.busy": "2022-03-01T10:39:09.442390Z",
     "iopub.status.idle": "2022-03-01T10:39:09.447880Z",
     "shell.execute_reply": "2022-03-01T10:39:09.448358Z",
     "shell.execute_reply.started": "2022-03-01T10:35:05.803274Z"
    },
    "papermill": {
     "duration": 0.060693,
     "end_time": "2022-03-01T10:39:09.448535",
     "exception": false,
     "start_time": "2022-03-01T10:39:09.387842",
     "status": "completed"
    },
    "tags": []
   },
   "outputs": [
    {
     "data": {
      "text/plain": [
       "20.574162679425836"
      ]
     },
     "execution_count": 12,
     "metadata": {},
     "output_type": "execute_result"
    }
   ],
   "source": [
    "(test_data['Age'].isnull().sum())/len(test_data)*100"
   ]
  },
  {
   "cell_type": "code",
   "execution_count": 13,
   "id": "least-liability",
   "metadata": {
    "execution": {
     "iopub.execute_input": "2022-03-01T10:39:09.552380Z",
     "iopub.status.busy": "2022-03-01T10:39:09.551748Z",
     "iopub.status.idle": "2022-03-01T10:39:09.937804Z",
     "shell.execute_reply": "2022-03-01T10:39:09.938261Z",
     "shell.execute_reply.started": "2022-03-01T10:35:06.038841Z"
    },
    "papermill": {
     "duration": 0.440297,
     "end_time": "2022-03-01T10:39:09.938434",
     "exception": false,
     "start_time": "2022-03-01T10:39:09.498137",
     "status": "completed"
    },
    "tags": []
   },
   "outputs": [
    {
     "data": {
      "image/png": "[encoded data removed]",
      "text/plain": [
       "<Figure size 432x288 with 1 Axes>"
      ]
     },
     "metadata": {
      "needs_background": "light"
     },
     "output_type": "display_data"
    }
   ],
   "source": [
    "fig = plt.figure()\n",
    "ax = fig.add_subplot(111)\n",
    "train_data['Age'].plot(kind='kde',ax=ax)\n",
    "train_data['Age'].fillna(train_data['Age'].mean()).plot(kind='kde',ax=ax,color='green')\n",
    "train_data['Age'].fillna(train_data['Age'].median()).plot(kind='kde',ax=ax,color='red')\n",
    "train_data['Age'].fillna(method='bfill').plot(kind='kde',ax=ax,color='cyan')\n",
    "labels = ['Age','Age_mean','Age_median','Backward_fill']\n",
    "plt.title('Age distribution: Train Data')\n",
    "ax.legend(labels=labels, loc='best')\n",
    "plt.show()"
   ]
  },
  {
   "cell_type": "code",
   "execution_count": 14,
   "id": "distinguished-disposal",
   "metadata": {
    "execution": {
     "iopub.execute_input": "2022-03-01T10:39:10.065813Z",
     "iopub.status.busy": "2022-03-01T10:39:10.059617Z",
     "iopub.status.idle": "2022-03-01T10:39:10.302306Z",
     "shell.execute_reply": "2022-03-01T10:39:10.302886Z",
     "shell.execute_reply.started": "2022-03-01T10:35:06.372339Z"
    },
    "papermill": {
     "duration": 0.312657,
     "end_time": "2022-03-01T10:39:10.303058",
     "exception": false,
     "start_time": "2022-03-01T10:39:09.990401",
     "status": "completed"
    },
    "tags": []
   },
   "outputs": [
    {
     "data": {
      "image/png": "[encoded data removed]",
      "text/plain": [
       "<Figure size 432x288 with 1 Axes>"
      ]
     },
     "metadata": {
      "needs_background": "light"
     },
     "output_type": "display_data"
    }
   ],
   "source": [
    "fig = plt.figure()\n",
    "ax = fig.add_subplot(111)\n",
    "test_data['Age'].plot(kind='kde',ax=ax)\n",
    "test_data['Age'].fillna(test_data['Age'].mean()).plot(kind='kde',ax=ax,color='green')\n",
    "test_data['Age'].fillna(test_data['Age'].median()).plot(kind='kde',ax=ax,color='red')\n",
    "test_data['Age'].fillna(method='bfill').plot(kind='kde',ax=ax,color='cyan')\n",
    "labels = ['Age','Age_mean','Age_median','Backward_fill']\n",
    "plt.title('Age distribution: Test Data')\n",
    "ax.legend(labels=labels, loc='best')\n",
    "plt.show()"
   ]
  },
  {
   "cell_type": "code",
   "execution_count": 15,
   "id": "italic-elizabeth",
   "metadata": {
    "execution": {
     "iopub.execute_input": "2022-03-01T10:39:10.412758Z",
     "iopub.status.busy": "2022-03-01T10:39:10.412011Z",
     "iopub.status.idle": "2022-03-01T10:39:10.415121Z",
     "shell.execute_reply": "2022-03-01T10:39:10.415572Z",
     "shell.execute_reply.started": "2022-03-01T10:35:06.650787Z"
    },
    "papermill": {
     "duration": 0.062346,
     "end_time": "2022-03-01T10:39:10.415733",
     "exception": false,
     "start_time": "2022-03-01T10:39:10.353387",
     "status": "completed"
    },
    "tags": []
   },
   "outputs": [
    {
     "data": {
      "text/plain": [
       "0"
      ]
     },
     "execution_count": 15,
     "metadata": {},
     "output_type": "execute_result"
    }
   ],
   "source": [
    "train_data['Age'].fillna(method='bfill').isna().sum()"
   ]
  },
  {
   "cell_type": "code",
   "execution_count": 16,
   "id": "forward-discipline",
   "metadata": {
    "execution": {
     "iopub.execute_input": "2022-03-01T10:39:10.522544Z",
     "iopub.status.busy": "2022-03-01T10:39:10.521635Z",
     "iopub.status.idle": "2022-03-01T10:39:10.527365Z",
     "shell.execute_reply": "2022-03-01T10:39:10.527814Z",
     "shell.execute_reply.started": "2022-03-01T10:35:06.784279Z"
    },
    "papermill": {
     "duration": 0.059462,
     "end_time": "2022-03-01T10:39:10.527973",
     "exception": false,
     "start_time": "2022-03-01T10:39:10.468511",
     "status": "completed"
    },
    "tags": []
   },
   "outputs": [
    {
     "data": {
      "text/plain": [
       "86"
      ]
     },
     "execution_count": 16,
     "metadata": {},
     "output_type": "execute_result"
    }
   ],
   "source": [
    "test_data['Age'].isna().sum()"
   ]
  },
  {
   "cell_type": "code",
   "execution_count": 17,
   "id": "starting-process",
   "metadata": {
    "execution": {
     "iopub.execute_input": "2022-03-01T10:39:10.632933Z",
     "iopub.status.busy": "2022-03-01T10:39:10.632003Z",
     "iopub.status.idle": "2022-03-01T10:39:10.638213Z",
     "shell.execute_reply": "2022-03-01T10:39:10.638661Z",
     "shell.execute_reply.started": "2022-03-01T10:35:06.920410Z"
    },
    "papermill": {
     "duration": 0.060263,
     "end_time": "2022-03-01T10:39:10.638820",
     "exception": false,
     "start_time": "2022-03-01T10:39:10.578557",
     "status": "completed"
    },
    "tags": []
   },
   "outputs": [
    {
     "data": {
      "text/plain": [
       "77.10437710437711"
      ]
     },
     "execution_count": 17,
     "metadata": {},
     "output_type": "execute_result"
    }
   ],
   "source": [
    "(train_data['Cabin'].isnull().sum())/len(train_data)*100"
   ]
  },
  {
   "cell_type": "code",
   "execution_count": 18,
   "id": "approved-replica",
   "metadata": {
    "execution": {
     "iopub.execute_input": "2022-03-01T10:39:10.745836Z",
     "iopub.status.busy": "2022-03-01T10:39:10.744854Z",
     "iopub.status.idle": "2022-03-01T10:39:10.751344Z",
     "shell.execute_reply": "2022-03-01T10:39:10.751800Z",
     "shell.execute_reply.started": "2022-03-01T10:35:07.158223Z"
    },
    "papermill": {
     "duration": 0.061273,
     "end_time": "2022-03-01T10:39:10.751958",
     "exception": false,
     "start_time": "2022-03-01T10:39:10.690685",
     "status": "completed"
    },
    "tags": []
   },
   "outputs": [
    {
     "data": {
      "text/plain": [
       "78.22966507177034"
      ]
     },
     "execution_count": 18,
     "metadata": {},
     "output_type": "execute_result"
    }
   ],
   "source": [
    "(test_data['Cabin'].isnull().sum())/len(test_data)*100"
   ]
  },
  {
   "cell_type": "code",
   "execution_count": 19,
   "id": "dangerous-english",
   "metadata": {
    "_kg_hide-output": true,
    "execution": {
     "iopub.execute_input": "2022-03-01T10:39:10.860021Z",
     "iopub.status.busy": "2022-03-01T10:39:10.859136Z",
     "iopub.status.idle": "2022-03-01T10:39:10.865258Z",
     "shell.execute_reply": "2022-03-01T10:39:10.865723Z",
     "shell.execute_reply.started": "2022-03-01T10:35:07.426713Z"
    },
    "papermill": {
     "duration": 0.061276,
     "end_time": "2022-03-01T10:39:10.865886",
     "exception": false,
     "start_time": "2022-03-01T10:39:10.804610",
     "status": "completed"
    },
    "tags": []
   },
   "outputs": [],
   "source": [
    "train_data.drop('Cabin',axis=1,inplace=True)\n",
    "test_data.drop('Cabin',axis=1,inplace=True)"
   ]
  },
  {
   "cell_type": "code",
   "execution_count": 20,
   "id": "joined-energy",
   "metadata": {
    "execution": {
     "iopub.execute_input": "2022-03-01T10:39:10.973431Z",
     "iopub.status.busy": "2022-03-01T10:39:10.972472Z",
     "iopub.status.idle": "2022-03-01T10:39:10.987540Z",
     "shell.execute_reply": "2022-03-01T10:39:10.986996Z",
     "shell.execute_reply.started": "2022-03-01T10:35:07.627614Z"
    },
    "papermill": {
     "duration": 0.070265,
     "end_time": "2022-03-01T10:39:10.987686",
     "exception": false,
     "start_time": "2022-03-01T10:39:10.917421",
     "status": "completed"
    },
    "tags": []
   },
   "outputs": [
    {
     "data": {
      "text/html": [
       "<div>\n",
       "<style scoped>\n",
       "    .dataframe tbody tr th:only-of-type {\n",
       "        vertical-align: middle;\n",
       "    }\n",
       "\n",
       "    .dataframe tbody tr th {\n",
       "        vertical-align: top;\n",
       "    }\n",
       "\n",
       "    .dataframe thead th {\n",
       "        text-align: right;\n",
       "    }\n",
       "</style>\n",
       "<table border=\"1\" class=\"dataframe\">\n",
       "  <thead>\n",
       "    <tr style=\"text-align: right;\">\n",
       "      <th></th>\n",
       "      <th>PassengerId</th>\n",
       "      <th>Survived</th>\n",
       "      <th>Pclass</th>\n",
       "      <th>Sex</th>\n",
       "      <th>Age</th>\n",
       "      <th>SibSp</th>\n",
       "      <th>Parch</th>\n",
       "      <th>Fare</th>\n",
       "      <th>Embarked</th>\n",
       "    </tr>\n",
       "  </thead>\n",
       "  <tbody>\n",
       "    <tr>\n",
       "      <th>367</th>\n",
       "      <td>368</td>\n",
       "      <td>1</td>\n",
       "      <td>3</td>\n",
       "      <td>female</td>\n",
       "      <td>NaN</td>\n",
       "      <td>0</td>\n",
       "      <td>0</td>\n",
       "      <td>7.2292</td>\n",
       "      <td>C</td>\n",
       "    </tr>\n",
       "    <tr>\n",
       "      <th>869</th>\n",
       "      <td>870</td>\n",
       "      <td>1</td>\n",
       "      <td>3</td>\n",
       "      <td>male</td>\n",
       "      <td>4.0</td>\n",
       "      <td>1</td>\n",
       "      <td>1</td>\n",
       "      <td>11.1333</td>\n",
       "      <td>S</td>\n",
       "    </tr>\n",
       "    <tr>\n",
       "      <th>409</th>\n",
       "      <td>410</td>\n",
       "      <td>0</td>\n",
       "      <td>3</td>\n",
       "      <td>female</td>\n",
       "      <td>NaN</td>\n",
       "      <td>3</td>\n",
       "      <td>1</td>\n",
       "      <td>25.4667</td>\n",
       "      <td>S</td>\n",
       "    </tr>\n",
       "    <tr>\n",
       "      <th>877</th>\n",
       "      <td>878</td>\n",
       "      <td>0</td>\n",
       "      <td>3</td>\n",
       "      <td>male</td>\n",
       "      <td>19.0</td>\n",
       "      <td>0</td>\n",
       "      <td>0</td>\n",
       "      <td>7.8958</td>\n",
       "      <td>S</td>\n",
       "    </tr>\n",
       "    <tr>\n",
       "      <th>700</th>\n",
       "      <td>701</td>\n",
       "      <td>1</td>\n",
       "      <td>1</td>\n",
       "      <td>female</td>\n",
       "      <td>18.0</td>\n",
       "      <td>1</td>\n",
       "      <td>0</td>\n",
       "      <td>227.5250</td>\n",
       "      <td>C</td>\n",
       "    </tr>\n",
       "  </tbody>\n",
       "</table>\n",
       "</div>"
      ],
      "text/plain": [
       "     PassengerId  Survived  Pclass     Sex   Age  SibSp  Parch      Fare  \\\n",
       "367          368         1       3  female   NaN      0      0    7.2292   \n",
       "869          870         1       3    male   4.0      1      1   11.1333   \n",
       "409          410         0       3  female   NaN      3      1   25.4667   \n",
       "877          878         0       3    male  19.0      0      0    7.8958   \n",
       "700          701         1       1  female  18.0      1      0  227.5250   \n",
       "\n",
       "    Embarked  \n",
       "367        C  \n",
       "869        S  \n",
       "409        S  \n",
       "877        S  \n",
       "700        C  "
      ]
     },
     "execution_count": 20,
     "metadata": {},
     "output_type": "execute_result"
    }
   ],
   "source": [
    "train_data.sample(5)"
   ]
  },
  {
   "cell_type": "code",
   "execution_count": 21,
   "id": "median-proceeding",
   "metadata": {
    "execution": {
     "iopub.execute_input": "2022-03-01T10:39:11.105645Z",
     "iopub.status.busy": "2022-03-01T10:39:11.104985Z",
     "iopub.status.idle": "2022-03-01T10:39:11.108837Z",
     "shell.execute_reply": "2022-03-01T10:39:11.109463Z",
     "shell.execute_reply.started": "2022-03-01T10:35:07.833648Z"
    },
    "papermill": {
     "duration": 0.069679,
     "end_time": "2022-03-01T10:39:11.109644",
     "exception": false,
     "start_time": "2022-03-01T10:39:11.039965",
     "status": "completed"
    },
    "tags": []
   },
   "outputs": [
    {
     "data": {
      "text/html": [
       "<div>\n",
       "<style scoped>\n",
       "    .dataframe tbody tr th:only-of-type {\n",
       "        vertical-align: middle;\n",
       "    }\n",
       "\n",
       "    .dataframe tbody tr th {\n",
       "        vertical-align: top;\n",
       "    }\n",
       "\n",
       "    .dataframe thead th {\n",
       "        text-align: right;\n",
       "    }\n",
       "</style>\n",
       "<table border=\"1\" class=\"dataframe\">\n",
       "  <thead>\n",
       "    <tr style=\"text-align: right;\">\n",
       "      <th></th>\n",
       "      <th>PassengerId</th>\n",
       "      <th>Pclass</th>\n",
       "      <th>Sex</th>\n",
       "      <th>Age</th>\n",
       "      <th>SibSp</th>\n",
       "      <th>Parch</th>\n",
       "      <th>Fare</th>\n",
       "      <th>Embarked</th>\n",
       "    </tr>\n",
       "  </thead>\n",
       "  <tbody>\n",
       "    <tr>\n",
       "      <th>174</th>\n",
       "      <td>1066</td>\n",
       "      <td>3</td>\n",
       "      <td>male</td>\n",
       "      <td>40.0</td>\n",
       "      <td>1</td>\n",
       "      <td>5</td>\n",
       "      <td>31.3875</td>\n",
       "      <td>S</td>\n",
       "    </tr>\n",
       "    <tr>\n",
       "      <th>172</th>\n",
       "      <td>1064</td>\n",
       "      <td>3</td>\n",
       "      <td>male</td>\n",
       "      <td>23.0</td>\n",
       "      <td>1</td>\n",
       "      <td>0</td>\n",
       "      <td>13.9000</td>\n",
       "      <td>S</td>\n",
       "    </tr>\n",
       "    <tr>\n",
       "      <th>369</th>\n",
       "      <td>1261</td>\n",
       "      <td>2</td>\n",
       "      <td>male</td>\n",
       "      <td>29.0</td>\n",
       "      <td>0</td>\n",
       "      <td>0</td>\n",
       "      <td>13.8583</td>\n",
       "      <td>C</td>\n",
       "    </tr>\n",
       "    <tr>\n",
       "      <th>338</th>\n",
       "      <td>1230</td>\n",
       "      <td>2</td>\n",
       "      <td>male</td>\n",
       "      <td>25.0</td>\n",
       "      <td>0</td>\n",
       "      <td>0</td>\n",
       "      <td>31.5000</td>\n",
       "      <td>S</td>\n",
       "    </tr>\n",
       "    <tr>\n",
       "      <th>279</th>\n",
       "      <td>1171</td>\n",
       "      <td>2</td>\n",
       "      <td>male</td>\n",
       "      <td>22.0</td>\n",
       "      <td>0</td>\n",
       "      <td>0</td>\n",
       "      <td>10.5000</td>\n",
       "      <td>S</td>\n",
       "    </tr>\n",
       "  </tbody>\n",
       "</table>\n",
       "</div>"
      ],
      "text/plain": [
       "     PassengerId  Pclass   Sex   Age  SibSp  Parch     Fare Embarked\n",
       "174         1066       3  male  40.0      1      5  31.3875        S\n",
       "172         1064       3  male  23.0      1      0  13.9000        S\n",
       "369         1261       2  male  29.0      0      0  13.8583        C\n",
       "338         1230       2  male  25.0      0      0  31.5000        S\n",
       "279         1171       2  male  22.0      0      0  10.5000        S"
      ]
     },
     "execution_count": 21,
     "metadata": {},
     "output_type": "execute_result"
    }
   ],
   "source": [
    "test_data.sample(5)"
   ]
  },
  {
   "cell_type": "code",
   "execution_count": 22,
   "id": "streaming-sensitivity",
   "metadata": {
    "execution": {
     "iopub.execute_input": "2022-03-01T10:39:11.221349Z",
     "iopub.status.busy": "2022-03-01T10:39:11.220730Z",
     "iopub.status.idle": "2022-03-01T10:39:11.228165Z",
     "shell.execute_reply": "2022-03-01T10:39:11.228661Z",
     "shell.execute_reply.started": "2022-03-01T10:35:08.056154Z"
    },
    "papermill": {
     "duration": 0.064974,
     "end_time": "2022-03-01T10:39:11.228829",
     "exception": false,
     "start_time": "2022-03-01T10:39:11.163855",
     "status": "completed"
    },
    "tags": []
   },
   "outputs": [
    {
     "data": {
      "text/plain": [
       "S    644\n",
       "C    168\n",
       "Q     77\n",
       "Name: Embarked, dtype: int64"
      ]
     },
     "execution_count": 22,
     "metadata": {},
     "output_type": "execute_result"
    }
   ],
   "source": [
    "train_data['Embarked'].value_counts()"
   ]
  },
  {
   "cell_type": "code",
   "execution_count": 23,
   "id": "incorporated-breach",
   "metadata": {
    "execution": {
     "iopub.execute_input": "2022-03-01T10:39:11.339422Z",
     "iopub.status.busy": "2022-03-01T10:39:11.338833Z",
     "iopub.status.idle": "2022-03-01T10:39:11.344275Z",
     "shell.execute_reply": "2022-03-01T10:39:11.344736Z",
     "shell.execute_reply.started": "2022-03-01T10:35:08.534180Z"
    },
    "papermill": {
     "duration": 0.063482,
     "end_time": "2022-03-01T10:39:11.344902",
     "exception": false,
     "start_time": "2022-03-01T10:39:11.281420",
     "status": "completed"
    },
    "tags": []
   },
   "outputs": [],
   "source": [
    "train_data['Age'].fillna(method='bfill',inplace=True)\n",
    "test_data['Age'].fillna(method='bfill',inplace=True)\n",
    "test_data['Age'].fillna(method='ffill',inplace=True)"
   ]
  },
  {
   "cell_type": "code",
   "execution_count": 24,
   "id": "robust-parliament",
   "metadata": {
    "execution": {
     "iopub.execute_input": "2022-03-01T10:39:11.454840Z",
     "iopub.status.busy": "2022-03-01T10:39:11.454246Z",
     "iopub.status.idle": "2022-03-01T10:39:11.567767Z",
     "shell.execute_reply": "2022-03-01T10:39:11.568378Z",
     "shell.execute_reply.started": "2022-03-01T10:35:08.983336Z"
    },
    "papermill": {
     "duration": 0.169725,
     "end_time": "2022-03-01T10:39:11.568549",
     "exception": false,
     "start_time": "2022-03-01T10:39:11.398824",
     "status": "completed"
    },
    "tags": []
   },
   "outputs": [],
   "source": [
    "si = SimpleImputer(strategy='most_frequent')\n",
    "temp = pd.DataFrame(si.fit_transform(train_data[['Embarked']])).reset_index()"
   ]
  },
  {
   "cell_type": "code",
   "execution_count": 25,
   "id": "unauthorized-spring",
   "metadata": {
    "execution": {
     "iopub.execute_input": "2022-03-01T10:39:11.677184Z",
     "iopub.status.busy": "2022-03-01T10:39:11.676633Z",
     "iopub.status.idle": "2022-03-01T10:39:11.681063Z",
     "shell.execute_reply": "2022-03-01T10:39:11.681569Z",
     "shell.execute_reply.started": "2022-03-01T10:35:09.279577Z"
    },
    "papermill": {
     "duration": 0.060138,
     "end_time": "2022-03-01T10:39:11.681729",
     "exception": false,
     "start_time": "2022-03-01T10:39:11.621591",
     "status": "completed"
    },
    "tags": []
   },
   "outputs": [],
   "source": [
    "temp.drop('index',axis=1,inplace=True)"
   ]
  },
  {
   "cell_type": "code",
   "execution_count": 26,
   "id": "macro-claim",
   "metadata": {
    "execution": {
     "iopub.execute_input": "2022-03-01T10:39:11.792719Z",
     "iopub.status.busy": "2022-03-01T10:39:11.792115Z",
     "iopub.status.idle": "2022-03-01T10:39:11.796616Z",
     "shell.execute_reply": "2022-03-01T10:39:11.797102Z",
     "shell.execute_reply.started": "2022-03-01T10:35:09.619626Z"
    },
    "papermill": {
     "duration": 0.061414,
     "end_time": "2022-03-01T10:39:11.797284",
     "exception": false,
     "start_time": "2022-03-01T10:39:11.735870",
     "status": "completed"
    },
    "tags": []
   },
   "outputs": [],
   "source": [
    "temp.rename(columns={0:'Embarked_New'},inplace=True)"
   ]
  },
  {
   "cell_type": "code",
   "execution_count": 27,
   "id": "scientific-intent",
   "metadata": {
    "execution": {
     "iopub.execute_input": "2022-03-01T10:39:11.911937Z",
     "iopub.status.busy": "2022-03-01T10:39:11.911396Z",
     "iopub.status.idle": "2022-03-01T10:39:11.918269Z",
     "shell.execute_reply": "2022-03-01T10:39:11.918762Z",
     "shell.execute_reply.started": "2022-03-01T10:35:09.981898Z"
    },
    "papermill": {
     "duration": 0.066787,
     "end_time": "2022-03-01T10:39:11.918924",
     "exception": false,
     "start_time": "2022-03-01T10:39:11.852137",
     "status": "completed"
    },
    "tags": []
   },
   "outputs": [
    {
     "data": {
      "text/plain": [
       "Embarked_New    0\n",
       "dtype: int64"
      ]
     },
     "execution_count": 27,
     "metadata": {},
     "output_type": "execute_result"
    }
   ],
   "source": [
    "temp.isnull().sum()"
   ]
  },
  {
   "cell_type": "code",
   "execution_count": 28,
   "id": "static-smart",
   "metadata": {
    "execution": {
     "iopub.execute_input": "2022-03-01T10:39:12.030438Z",
     "iopub.status.busy": "2022-03-01T10:39:12.029674Z",
     "iopub.status.idle": "2022-03-01T10:39:12.035257Z",
     "shell.execute_reply": "2022-03-01T10:39:12.035705Z",
     "shell.execute_reply.started": "2022-03-01T10:35:10.230164Z"
    },
    "papermill": {
     "duration": 0.063657,
     "end_time": "2022-03-01T10:39:12.035868",
     "exception": false,
     "start_time": "2022-03-01T10:39:11.972211",
     "status": "completed"
    },
    "tags": []
   },
   "outputs": [],
   "source": [
    "train_data = pd.concat([train_data,temp],axis=1)"
   ]
  },
  {
   "cell_type": "code",
   "execution_count": 29,
   "id": "mineral-delight",
   "metadata": {
    "execution": {
     "iopub.execute_input": "2022-03-01T10:39:12.145146Z",
     "iopub.status.busy": "2022-03-01T10:39:12.144537Z",
     "iopub.status.idle": "2022-03-01T10:39:12.150152Z",
     "shell.execute_reply": "2022-03-01T10:39:12.150602Z",
     "shell.execute_reply.started": "2022-03-01T10:35:10.471674Z"
    },
    "papermill": {
     "duration": 0.062196,
     "end_time": "2022-03-01T10:39:12.150764",
     "exception": false,
     "start_time": "2022-03-01T10:39:12.088568",
     "status": "completed"
    },
    "tags": []
   },
   "outputs": [],
   "source": [
    "train_data.drop('Embarked',axis=1,inplace=True)"
   ]
  },
  {
   "cell_type": "code",
   "execution_count": 30,
   "id": "seventh-separate",
   "metadata": {
    "execution": {
     "iopub.execute_input": "2022-03-01T10:39:12.260123Z",
     "iopub.status.busy": "2022-03-01T10:39:12.259518Z",
     "iopub.status.idle": "2022-03-01T10:39:12.267250Z",
     "shell.execute_reply": "2022-03-01T10:39:12.266688Z",
     "shell.execute_reply.started": "2022-03-01T10:35:10.734392Z"
    },
    "papermill": {
     "duration": 0.062656,
     "end_time": "2022-03-01T10:39:12.267389",
     "exception": false,
     "start_time": "2022-03-01T10:39:12.204733",
     "status": "completed"
    },
    "tags": []
   },
   "outputs": [
    {
     "data": {
      "text/plain": [
       "PassengerId     0\n",
       "Survived        0\n",
       "Pclass          0\n",
       "Sex             0\n",
       "Age             0\n",
       "SibSp           0\n",
       "Parch           0\n",
       "Fare            0\n",
       "Embarked_New    0\n",
       "dtype: int64"
      ]
     },
     "execution_count": 30,
     "metadata": {},
     "output_type": "execute_result"
    }
   ],
   "source": [
    "train_data.isnull().sum()"
   ]
  },
  {
   "cell_type": "code",
   "execution_count": 31,
   "id": "necessary-italy",
   "metadata": {
    "execution": {
     "iopub.execute_input": "2022-03-01T10:39:12.390558Z",
     "iopub.status.busy": "2022-03-01T10:39:12.389949Z",
     "iopub.status.idle": "2022-03-01T10:39:12.394287Z",
     "shell.execute_reply": "2022-03-01T10:39:12.393820Z",
     "shell.execute_reply.started": "2022-03-01T10:35:10.975480Z"
    },
    "papermill": {
     "duration": 0.072945,
     "end_time": "2022-03-01T10:39:12.394433",
     "exception": false,
     "start_time": "2022-03-01T10:39:12.321488",
     "status": "completed"
    },
    "tags": []
   },
   "outputs": [
    {
     "data": {
      "text/html": [
       "<div>\n",
       "<style scoped>\n",
       "    .dataframe tbody tr th:only-of-type {\n",
       "        vertical-align: middle;\n",
       "    }\n",
       "\n",
       "    .dataframe tbody tr th {\n",
       "        vertical-align: top;\n",
       "    }\n",
       "\n",
       "    .dataframe thead th {\n",
       "        text-align: right;\n",
       "    }\n",
       "</style>\n",
       "<table border=\"1\" class=\"dataframe\">\n",
       "  <thead>\n",
       "    <tr style=\"text-align: right;\">\n",
       "      <th></th>\n",
       "      <th>PassengerId</th>\n",
       "      <th>Survived</th>\n",
       "      <th>Pclass</th>\n",
       "      <th>Sex</th>\n",
       "      <th>Age</th>\n",
       "      <th>SibSp</th>\n",
       "      <th>Parch</th>\n",
       "      <th>Fare</th>\n",
       "      <th>Embarked_New</th>\n",
       "    </tr>\n",
       "  </thead>\n",
       "  <tbody>\n",
       "    <tr>\n",
       "      <th>0</th>\n",
       "      <td>1</td>\n",
       "      <td>0</td>\n",
       "      <td>3</td>\n",
       "      <td>male</td>\n",
       "      <td>22.0</td>\n",
       "      <td>1</td>\n",
       "      <td>0</td>\n",
       "      <td>7.2500</td>\n",
       "      <td>S</td>\n",
       "    </tr>\n",
       "    <tr>\n",
       "      <th>1</th>\n",
       "      <td>2</td>\n",
       "      <td>1</td>\n",
       "      <td>1</td>\n",
       "      <td>female</td>\n",
       "      <td>38.0</td>\n",
       "      <td>1</td>\n",
       "      <td>0</td>\n",
       "      <td>71.2833</td>\n",
       "      <td>C</td>\n",
       "    </tr>\n",
       "    <tr>\n",
       "      <th>2</th>\n",
       "      <td>3</td>\n",
       "      <td>1</td>\n",
       "      <td>3</td>\n",
       "      <td>female</td>\n",
       "      <td>26.0</td>\n",
       "      <td>0</td>\n",
       "      <td>0</td>\n",
       "      <td>7.9250</td>\n",
       "      <td>S</td>\n",
       "    </tr>\n",
       "    <tr>\n",
       "      <th>3</th>\n",
       "      <td>4</td>\n",
       "      <td>1</td>\n",
       "      <td>1</td>\n",
       "      <td>female</td>\n",
       "      <td>35.0</td>\n",
       "      <td>1</td>\n",
       "      <td>0</td>\n",
       "      <td>53.1000</td>\n",
       "      <td>S</td>\n",
       "    </tr>\n",
       "    <tr>\n",
       "      <th>4</th>\n",
       "      <td>5</td>\n",
       "      <td>0</td>\n",
       "      <td>3</td>\n",
       "      <td>male</td>\n",
       "      <td>35.0</td>\n",
       "      <td>0</td>\n",
       "      <td>0</td>\n",
       "      <td>8.0500</td>\n",
       "      <td>S</td>\n",
       "    </tr>\n",
       "  </tbody>\n",
       "</table>\n",
       "</div>"
      ],
      "text/plain": [
       "   PassengerId  Survived  Pclass     Sex   Age  SibSp  Parch     Fare  \\\n",
       "0            1         0       3    male  22.0      1      0   7.2500   \n",
       "1            2         1       1  female  38.0      1      0  71.2833   \n",
       "2            3         1       3  female  26.0      0      0   7.9250   \n",
       "3            4         1       1  female  35.0      1      0  53.1000   \n",
       "4            5         0       3    male  35.0      0      0   8.0500   \n",
       "\n",
       "  Embarked_New  \n",
       "0            S  \n",
       "1            C  \n",
       "2            S  \n",
       "3            S  \n",
       "4            S  "
      ]
     },
     "execution_count": 31,
     "metadata": {},
     "output_type": "execute_result"
    }
   ],
   "source": [
    "train_data.head(5)"
   ]
  },
  {
   "cell_type": "code",
   "execution_count": 32,
   "id": "australian-satin",
   "metadata": {
    "execution": {
     "iopub.execute_input": "2022-03-01T10:39:12.509156Z",
     "iopub.status.busy": "2022-03-01T10:39:12.508495Z",
     "iopub.status.idle": "2022-03-01T10:39:12.511352Z",
     "shell.execute_reply": "2022-03-01T10:39:12.510839Z",
     "shell.execute_reply.started": "2022-03-01T10:35:11.220797Z"
    },
    "papermill": {
     "duration": 0.062765,
     "end_time": "2022-03-01T10:39:12.511488",
     "exception": false,
     "start_time": "2022-03-01T10:39:12.448723",
     "status": "completed"
    },
    "tags": []
   },
   "outputs": [],
   "source": [
    "test_data['Fare'].fillna(test_data['Fare'].mean(),inplace=True)"
   ]
  },
  {
   "cell_type": "code",
   "execution_count": 33,
   "id": "owned-berlin",
   "metadata": {
    "execution": {
     "iopub.execute_input": "2022-03-01T10:39:12.627819Z",
     "iopub.status.busy": "2022-03-01T10:39:12.626840Z",
     "iopub.status.idle": "2022-03-01T10:39:12.632209Z",
     "shell.execute_reply": "2022-03-01T10:39:12.632617Z",
     "shell.execute_reply.started": "2022-03-01T10:35:11.421777Z"
    },
    "papermill": {
     "duration": 0.066488,
     "end_time": "2022-03-01T10:39:12.632782",
     "exception": false,
     "start_time": "2022-03-01T10:39:12.566294",
     "status": "completed"
    },
    "tags": []
   },
   "outputs": [
    {
     "data": {
      "text/plain": [
       "PassengerId    0\n",
       "Pclass         0\n",
       "Sex            0\n",
       "Age            0\n",
       "SibSp          0\n",
       "Parch          0\n",
       "Fare           0\n",
       "Embarked       0\n",
       "dtype: int64"
      ]
     },
     "execution_count": 33,
     "metadata": {},
     "output_type": "execute_result"
    }
   ],
   "source": [
    "test_data.isna().sum()"
   ]
  },
  {
   "cell_type": "code",
   "execution_count": 34,
   "id": "traditional-helen",
   "metadata": {
    "execution": {
     "iopub.execute_input": "2022-03-01T10:39:12.748430Z",
     "iopub.status.busy": "2022-03-01T10:39:12.747508Z",
     "iopub.status.idle": "2022-03-01T10:39:12.758236Z",
     "shell.execute_reply": "2022-03-01T10:39:12.759457Z",
     "shell.execute_reply.started": "2022-03-01T10:35:11.738588Z"
    },
    "papermill": {
     "duration": 0.070658,
     "end_time": "2022-03-01T10:39:12.759706",
     "exception": false,
     "start_time": "2022-03-01T10:39:12.689048",
     "status": "completed"
    },
    "tags": []
   },
   "outputs": [
    {
     "name": "stdout",
     "output_type": "stream",
     "text": [
      "Total people died were 549\n",
      "Total people survived were 342\n"
     ]
    }
   ],
   "source": [
    "print('Total people died were {}'.format(train_data['Survived'].value_counts()[0]))\n",
    "print('Total people survived were {}'.format(train_data['Survived'].value_counts()[1]))"
   ]
  },
  {
   "cell_type": "code",
   "execution_count": 35,
   "id": "imposed-specific",
   "metadata": {
    "execution": {
     "iopub.execute_input": "2022-03-01T10:39:12.884371Z",
     "iopub.status.busy": "2022-03-01T10:39:12.883592Z",
     "iopub.status.idle": "2022-03-01T10:39:12.887658Z",
     "shell.execute_reply": "2022-03-01T10:39:12.888211Z",
     "shell.execute_reply.started": "2022-03-01T10:35:11.966296Z"
    },
    "papermill": {
     "duration": 0.069149,
     "end_time": "2022-03-01T10:39:12.888381",
     "exception": false,
     "start_time": "2022-03-01T10:39:12.819232",
     "status": "completed"
    },
    "tags": []
   },
   "outputs": [
    {
     "name": "stdout",
     "output_type": "stream",
     "text": [
      "No. of people in CLASS 3: 491\n",
      "No. of people in CLASS 1: 216\n",
      "No. of people in CLASS 2: 184\n"
     ]
    }
   ],
   "source": [
    "print('No. of people in CLASS 3: {}'.format(train_data['Pclass'].value_counts()[3]))\n",
    "print('No. of people in CLASS 1: {}'.format(train_data['Pclass'].value_counts()[1]))\n",
    "print('No. of people in CLASS 2: {}'.format(train_data['Pclass'].value_counts()[2]))"
   ]
  },
  {
   "cell_type": "code",
   "execution_count": 36,
   "id": "communist-original",
   "metadata": {
    "execution": {
     "iopub.execute_input": "2022-03-01T10:39:13.005883Z",
     "iopub.status.busy": "2022-03-01T10:39:13.005306Z",
     "iopub.status.idle": "2022-03-01T10:39:13.011317Z",
     "shell.execute_reply": "2022-03-01T10:39:13.011710Z",
     "shell.execute_reply.started": "2022-03-01T10:35:12.450873Z"
    },
    "papermill": {
     "duration": 0.066306,
     "end_time": "2022-03-01T10:39:13.011901",
     "exception": false,
     "start_time": "2022-03-01T10:39:12.945595",
     "status": "completed"
    },
    "tags": []
   },
   "outputs": [
    {
     "data": {
      "text/plain": [
       "male      577\n",
       "female    314\n",
       "Name: Sex, dtype: int64"
      ]
     },
     "execution_count": 36,
     "metadata": {},
     "output_type": "execute_result"
    }
   ],
   "source": [
    "train_data['Sex'].value_counts()"
   ]
  },
  {
   "cell_type": "code",
   "execution_count": 37,
   "id": "collectible-firmware",
   "metadata": {
    "execution": {
     "iopub.execute_input": "2022-03-01T10:39:13.131104Z",
     "iopub.status.busy": "2022-03-01T10:39:13.130341Z",
     "iopub.status.idle": "2022-03-01T10:39:13.138598Z",
     "shell.execute_reply": "2022-03-01T10:39:13.139019Z",
     "shell.execute_reply.started": "2022-03-01T10:35:13.174965Z"
    },
    "papermill": {
     "duration": 0.069696,
     "end_time": "2022-03-01T10:39:13.139211",
     "exception": false,
     "start_time": "2022-03-01T10:39:13.069515",
     "status": "completed"
    },
    "tags": []
   },
   "outputs": [
    {
     "data": {
      "text/plain": [
       "count    891.000000\n",
       "mean      29.870561\n",
       "std       14.597668\n",
       "min        0.420000\n",
       "25%       21.000000\n",
       "50%       29.000000\n",
       "75%       39.000000\n",
       "max       80.000000\n",
       "Name: Age, dtype: float64"
      ]
     },
     "execution_count": 37,
     "metadata": {},
     "output_type": "execute_result"
    }
   ],
   "source": [
    "train_data['Age'].describe()"
   ]
  },
  {
   "cell_type": "code",
   "execution_count": 38,
   "id": "protected-fellow",
   "metadata": {
    "execution": {
     "iopub.execute_input": "2022-03-01T10:39:13.262487Z",
     "iopub.status.busy": "2022-03-01T10:39:13.261720Z",
     "iopub.status.idle": "2022-03-01T10:39:13.269428Z",
     "shell.execute_reply": "2022-03-01T10:39:13.268767Z",
     "shell.execute_reply.started": "2022-03-01T10:35:13.712223Z"
    },
    "papermill": {
     "duration": 0.070817,
     "end_time": "2022-03-01T10:39:13.269576",
     "exception": false,
     "start_time": "2022-03-01T10:39:13.198759",
     "status": "completed"
    },
    "tags": []
   },
   "outputs": [
    {
     "data": {
      "text/plain": [
       "0    678\n",
       "1    118\n",
       "2     80\n",
       "3      5\n",
       "5      5\n",
       "4      4\n",
       "6      1\n",
       "Name: Parch, dtype: int64"
      ]
     },
     "execution_count": 38,
     "metadata": {},
     "output_type": "execute_result"
    }
   ],
   "source": [
    "train_data['Parch'].value_counts()"
   ]
  },
  {
   "cell_type": "code",
   "execution_count": 39,
   "id": "veterinary-saint",
   "metadata": {
    "execution": {
     "iopub.execute_input": "2022-03-01T10:39:13.394043Z",
     "iopub.status.busy": "2022-03-01T10:39:13.393457Z",
     "iopub.status.idle": "2022-03-01T10:39:13.412323Z",
     "shell.execute_reply": "2022-03-01T10:39:13.412768Z",
     "shell.execute_reply.started": "2022-03-01T10:35:14.195211Z"
    },
    "papermill": {
     "duration": 0.085347,
     "end_time": "2022-03-01T10:39:13.412942",
     "exception": false,
     "start_time": "2022-03-01T10:39:13.327595",
     "status": "completed"
    },
    "tags": []
   },
   "outputs": [],
   "source": [
    "train_data['Family_members'] = train_data['SibSp'] + train_data['Parch']"
   ]
  },
  {
   "cell_type": "code",
   "execution_count": 40,
   "id": "tight-opening",
   "metadata": {
    "execution": {
     "iopub.execute_input": "2022-03-01T10:39:13.530722Z",
     "iopub.status.busy": "2022-03-01T10:39:13.529797Z",
     "iopub.status.idle": "2022-03-01T10:39:13.536194Z",
     "shell.execute_reply": "2022-03-01T10:39:13.536718Z",
     "shell.execute_reply.started": "2022-03-01T10:35:15.353172Z"
    },
    "papermill": {
     "duration": 0.067825,
     "end_time": "2022-03-01T10:39:13.536922",
     "exception": false,
     "start_time": "2022-03-01T10:39:13.469097",
     "status": "completed"
    },
    "tags": []
   },
   "outputs": [],
   "source": [
    "test_data['Family_members'] = test_data['SibSp'] + test_data['Parch']"
   ]
  },
  {
   "cell_type": "code",
   "execution_count": 41,
   "id": "controlling-probability",
   "metadata": {
    "execution": {
     "iopub.execute_input": "2022-03-01T10:39:13.660346Z",
     "iopub.status.busy": "2022-03-01T10:39:13.659279Z",
     "iopub.status.idle": "2022-03-01T10:39:13.663273Z",
     "shell.execute_reply": "2022-03-01T10:39:13.662667Z",
     "shell.execute_reply.started": "2022-03-01T10:35:16.055529Z"
    },
    "papermill": {
     "duration": 0.068704,
     "end_time": "2022-03-01T10:39:13.663402",
     "exception": false,
     "start_time": "2022-03-01T10:39:13.594698",
     "status": "completed"
    },
    "tags": []
   },
   "outputs": [],
   "source": [
    "train_data.drop(['SibSp','Parch'],axis=1,inplace=True)"
   ]
  },
  {
   "cell_type": "code",
   "execution_count": 42,
   "id": "documented-offense",
   "metadata": {
    "execution": {
     "iopub.execute_input": "2022-03-01T10:39:13.783324Z",
     "iopub.status.busy": "2022-03-01T10:39:13.782409Z",
     "iopub.status.idle": "2022-03-01T10:39:13.785661Z",
     "shell.execute_reply": "2022-03-01T10:39:13.786060Z",
     "shell.execute_reply.started": "2022-03-01T10:35:17.015999Z"
    },
    "papermill": {
     "duration": 0.066233,
     "end_time": "2022-03-01T10:39:13.786384",
     "exception": false,
     "start_time": "2022-03-01T10:39:13.720151",
     "status": "completed"
    },
    "tags": []
   },
   "outputs": [],
   "source": [
    "test_data.drop(['SibSp','Parch'],axis=1,inplace=True)"
   ]
  },
  {
   "cell_type": "code",
   "execution_count": 43,
   "id": "aquatic-shade",
   "metadata": {
    "execution": {
     "iopub.execute_input": "2022-03-01T10:39:13.913451Z",
     "iopub.status.busy": "2022-03-01T10:39:13.912656Z",
     "iopub.status.idle": "2022-03-01T10:39:13.915871Z",
     "shell.execute_reply": "2022-03-01T10:39:13.916339Z",
     "shell.execute_reply.started": "2022-03-01T10:35:17.511646Z"
    },
    "papermill": {
     "duration": 0.072504,
     "end_time": "2022-03-01T10:39:13.916502",
     "exception": false,
     "start_time": "2022-03-01T10:39:13.843998",
     "status": "completed"
    },
    "tags": []
   },
   "outputs": [
    {
     "data": {
      "text/html": [
       "<div>\n",
       "<style scoped>\n",
       "    .dataframe tbody tr th:only-of-type {\n",
       "        vertical-align: middle;\n",
       "    }\n",
       "\n",
       "    .dataframe tbody tr th {\n",
       "        vertical-align: top;\n",
       "    }\n",
       "\n",
       "    .dataframe thead th {\n",
       "        text-align: right;\n",
       "    }\n",
       "</style>\n",
       "<table border=\"1\" class=\"dataframe\">\n",
       "  <thead>\n",
       "    <tr style=\"text-align: right;\">\n",
       "      <th></th>\n",
       "      <th>PassengerId</th>\n",
       "      <th>Survived</th>\n",
       "      <th>Pclass</th>\n",
       "      <th>Sex</th>\n",
       "      <th>Age</th>\n",
       "      <th>Fare</th>\n",
       "      <th>Embarked_New</th>\n",
       "      <th>Family_members</th>\n",
       "    </tr>\n",
       "  </thead>\n",
       "  <tbody>\n",
       "    <tr>\n",
       "      <th>0</th>\n",
       "      <td>1</td>\n",
       "      <td>0</td>\n",
       "      <td>3</td>\n",
       "      <td>male</td>\n",
       "      <td>22.0</td>\n",
       "      <td>7.2500</td>\n",
       "      <td>S</td>\n",
       "      <td>1</td>\n",
       "    </tr>\n",
       "    <tr>\n",
       "      <th>1</th>\n",
       "      <td>2</td>\n",
       "      <td>1</td>\n",
       "      <td>1</td>\n",
       "      <td>female</td>\n",
       "      <td>38.0</td>\n",
       "      <td>71.2833</td>\n",
       "      <td>C</td>\n",
       "      <td>1</td>\n",
       "    </tr>\n",
       "    <tr>\n",
       "      <th>2</th>\n",
       "      <td>3</td>\n",
       "      <td>1</td>\n",
       "      <td>3</td>\n",
       "      <td>female</td>\n",
       "      <td>26.0</td>\n",
       "      <td>7.9250</td>\n",
       "      <td>S</td>\n",
       "      <td>0</td>\n",
       "    </tr>\n",
       "    <tr>\n",
       "      <th>3</th>\n",
       "      <td>4</td>\n",
       "      <td>1</td>\n",
       "      <td>1</td>\n",
       "      <td>female</td>\n",
       "      <td>35.0</td>\n",
       "      <td>53.1000</td>\n",
       "      <td>S</td>\n",
       "      <td>1</td>\n",
       "    </tr>\n",
       "    <tr>\n",
       "      <th>4</th>\n",
       "      <td>5</td>\n",
       "      <td>0</td>\n",
       "      <td>3</td>\n",
       "      <td>male</td>\n",
       "      <td>35.0</td>\n",
       "      <td>8.0500</td>\n",
       "      <td>S</td>\n",
       "      <td>0</td>\n",
       "    </tr>\n",
       "  </tbody>\n",
       "</table>\n",
       "</div>"
      ],
      "text/plain": [
       "   PassengerId  Survived  Pclass     Sex   Age     Fare Embarked_New  \\\n",
       "0            1         0       3    male  22.0   7.2500            S   \n",
       "1            2         1       1  female  38.0  71.2833            C   \n",
       "2            3         1       3  female  26.0   7.9250            S   \n",
       "3            4         1       1  female  35.0  53.1000            S   \n",
       "4            5         0       3    male  35.0   8.0500            S   \n",
       "\n",
       "   Family_members  \n",
       "0               1  \n",
       "1               1  \n",
       "2               0  \n",
       "3               1  \n",
       "4               0  "
      ]
     },
     "execution_count": 43,
     "metadata": {},
     "output_type": "execute_result"
    }
   ],
   "source": [
    "train_data.head(5)"
   ]
  },
  {
   "cell_type": "code",
   "execution_count": 44,
   "id": "virgin-recall",
   "metadata": {
    "execution": {
     "iopub.execute_input": "2022-03-01T10:39:14.035427Z",
     "iopub.status.busy": "2022-03-01T10:39:14.034255Z",
     "iopub.status.idle": "2022-03-01T10:39:14.037569Z",
     "shell.execute_reply": "2022-03-01T10:39:14.036921Z",
     "shell.execute_reply.started": "2022-03-01T10:35:17.795564Z"
    },
    "papermill": {
     "duration": 0.064762,
     "end_time": "2022-03-01T10:39:14.037708",
     "exception": false,
     "start_time": "2022-03-01T10:39:13.972946",
     "status": "completed"
    },
    "tags": []
   },
   "outputs": [],
   "source": [
    "train_data.rename(columns={'Embarked_New':'Embarked'},inplace=True)"
   ]
  },
  {
   "cell_type": "code",
   "execution_count": 45,
   "id": "yellow-hurricane",
   "metadata": {
    "execution": {
     "iopub.execute_input": "2022-03-01T10:39:14.171842Z",
     "iopub.status.busy": "2022-03-01T10:39:14.171107Z",
     "iopub.status.idle": "2022-03-01T10:39:14.174263Z",
     "shell.execute_reply": "2022-03-01T10:39:14.174710Z",
     "shell.execute_reply.started": "2022-03-01T10:35:18.005650Z"
    },
    "papermill": {
     "duration": 0.075345,
     "end_time": "2022-03-01T10:39:14.174873",
     "exception": false,
     "start_time": "2022-03-01T10:39:14.099528",
     "status": "completed"
    },
    "tags": []
   },
   "outputs": [
    {
     "data": {
      "text/html": [
       "<div>\n",
       "<style scoped>\n",
       "    .dataframe tbody tr th:only-of-type {\n",
       "        vertical-align: middle;\n",
       "    }\n",
       "\n",
       "    .dataframe tbody tr th {\n",
       "        vertical-align: top;\n",
       "    }\n",
       "\n",
       "    .dataframe thead th {\n",
       "        text-align: right;\n",
       "    }\n",
       "</style>\n",
       "<table border=\"1\" class=\"dataframe\">\n",
       "  <thead>\n",
       "    <tr style=\"text-align: right;\">\n",
       "      <th></th>\n",
       "      <th>PassengerId</th>\n",
       "      <th>Survived</th>\n",
       "      <th>Pclass</th>\n",
       "      <th>Sex</th>\n",
       "      <th>Age</th>\n",
       "      <th>Fare</th>\n",
       "      <th>Embarked</th>\n",
       "      <th>Family_members</th>\n",
       "    </tr>\n",
       "  </thead>\n",
       "  <tbody>\n",
       "    <tr>\n",
       "      <th>0</th>\n",
       "      <td>1</td>\n",
       "      <td>0</td>\n",
       "      <td>3</td>\n",
       "      <td>male</td>\n",
       "      <td>22.0</td>\n",
       "      <td>7.2500</td>\n",
       "      <td>S</td>\n",
       "      <td>1</td>\n",
       "    </tr>\n",
       "    <tr>\n",
       "      <th>1</th>\n",
       "      <td>2</td>\n",
       "      <td>1</td>\n",
       "      <td>1</td>\n",
       "      <td>female</td>\n",
       "      <td>38.0</td>\n",
       "      <td>71.2833</td>\n",
       "      <td>C</td>\n",
       "      <td>1</td>\n",
       "    </tr>\n",
       "    <tr>\n",
       "      <th>2</th>\n",
       "      <td>3</td>\n",
       "      <td>1</td>\n",
       "      <td>3</td>\n",
       "      <td>female</td>\n",
       "      <td>26.0</td>\n",
       "      <td>7.9250</td>\n",
       "      <td>S</td>\n",
       "      <td>0</td>\n",
       "    </tr>\n",
       "    <tr>\n",
       "      <th>3</th>\n",
       "      <td>4</td>\n",
       "      <td>1</td>\n",
       "      <td>1</td>\n",
       "      <td>female</td>\n",
       "      <td>35.0</td>\n",
       "      <td>53.1000</td>\n",
       "      <td>S</td>\n",
       "      <td>1</td>\n",
       "    </tr>\n",
       "    <tr>\n",
       "      <th>4</th>\n",
       "      <td>5</td>\n",
       "      <td>0</td>\n",
       "      <td>3</td>\n",
       "      <td>male</td>\n",
       "      <td>35.0</td>\n",
       "      <td>8.0500</td>\n",
       "      <td>S</td>\n",
       "      <td>0</td>\n",
       "    </tr>\n",
       "  </tbody>\n",
       "</table>\n",
       "</div>"
      ],
      "text/plain": [
       "   PassengerId  Survived  Pclass     Sex   Age     Fare Embarked  \\\n",
       "0            1         0       3    male  22.0   7.2500        S   \n",
       "1            2         1       1  female  38.0  71.2833        C   \n",
       "2            3         1       3  female  26.0   7.9250        S   \n",
       "3            4         1       1  female  35.0  53.1000        S   \n",
       "4            5         0       3    male  35.0   8.0500        S   \n",
       "\n",
       "   Family_members  \n",
       "0               1  \n",
       "1               1  \n",
       "2               0  \n",
       "3               1  \n",
       "4               0  "
      ]
     },
     "execution_count": 45,
     "metadata": {},
     "output_type": "execute_result"
    }
   ],
   "source": [
    "train_data.head(5)"
   ]
  },
  {
   "cell_type": "code",
   "execution_count": 46,
   "id": "sexual-adelaide",
   "metadata": {
    "execution": {
     "iopub.execute_input": "2022-03-01T10:39:14.295209Z",
     "iopub.status.busy": "2022-03-01T10:39:14.294290Z",
     "iopub.status.idle": "2022-03-01T10:39:14.307743Z",
     "shell.execute_reply": "2022-03-01T10:39:14.308224Z",
     "shell.execute_reply.started": "2022-03-01T10:35:18.197959Z"
    },
    "papermill": {
     "duration": 0.073786,
     "end_time": "2022-03-01T10:39:14.308449",
     "exception": false,
     "start_time": "2022-03-01T10:39:14.234663",
     "status": "completed"
    },
    "tags": []
   },
   "outputs": [
    {
     "data": {
      "text/html": [
       "<div>\n",
       "<style scoped>\n",
       "    .dataframe tbody tr th:only-of-type {\n",
       "        vertical-align: middle;\n",
       "    }\n",
       "\n",
       "    .dataframe tbody tr th {\n",
       "        vertical-align: top;\n",
       "    }\n",
       "\n",
       "    .dataframe thead th {\n",
       "        text-align: right;\n",
       "    }\n",
       "</style>\n",
       "<table border=\"1\" class=\"dataframe\">\n",
       "  <thead>\n",
       "    <tr style=\"text-align: right;\">\n",
       "      <th></th>\n",
       "      <th>PassengerId</th>\n",
       "      <th>Pclass</th>\n",
       "      <th>Sex</th>\n",
       "      <th>Age</th>\n",
       "      <th>Fare</th>\n",
       "      <th>Embarked</th>\n",
       "      <th>Family_members</th>\n",
       "    </tr>\n",
       "  </thead>\n",
       "  <tbody>\n",
       "    <tr>\n",
       "      <th>0</th>\n",
       "      <td>892</td>\n",
       "      <td>3</td>\n",
       "      <td>male</td>\n",
       "      <td>34.5</td>\n",
       "      <td>7.8292</td>\n",
       "      <td>Q</td>\n",
       "      <td>0</td>\n",
       "    </tr>\n",
       "    <tr>\n",
       "      <th>1</th>\n",
       "      <td>893</td>\n",
       "      <td>3</td>\n",
       "      <td>female</td>\n",
       "      <td>47.0</td>\n",
       "      <td>7.0000</td>\n",
       "      <td>S</td>\n",
       "      <td>1</td>\n",
       "    </tr>\n",
       "    <tr>\n",
       "      <th>2</th>\n",
       "      <td>894</td>\n",
       "      <td>2</td>\n",
       "      <td>male</td>\n",
       "      <td>62.0</td>\n",
       "      <td>9.6875</td>\n",
       "      <td>Q</td>\n",
       "      <td>0</td>\n",
       "    </tr>\n",
       "    <tr>\n",
       "      <th>3</th>\n",
       "      <td>895</td>\n",
       "      <td>3</td>\n",
       "      <td>male</td>\n",
       "      <td>27.0</td>\n",
       "      <td>8.6625</td>\n",
       "      <td>S</td>\n",
       "      <td>0</td>\n",
       "    </tr>\n",
       "    <tr>\n",
       "      <th>4</th>\n",
       "      <td>896</td>\n",
       "      <td>3</td>\n",
       "      <td>female</td>\n",
       "      <td>22.0</td>\n",
       "      <td>12.2875</td>\n",
       "      <td>S</td>\n",
       "      <td>2</td>\n",
       "    </tr>\n",
       "  </tbody>\n",
       "</table>\n",
       "</div>"
      ],
      "text/plain": [
       "   PassengerId  Pclass     Sex   Age     Fare Embarked  Family_members\n",
       "0          892       3    male  34.5   7.8292        Q               0\n",
       "1          893       3  female  47.0   7.0000        S               1\n",
       "2          894       2    male  62.0   9.6875        Q               0\n",
       "3          895       3    male  27.0   8.6625        S               0\n",
       "4          896       3  female  22.0  12.2875        S               2"
      ]
     },
     "execution_count": 46,
     "metadata": {},
     "output_type": "execute_result"
    }
   ],
   "source": [
    "test_data.head()"
   ]
  },
  {
   "cell_type": "code",
   "execution_count": 47,
   "id": "further-frost",
   "metadata": {
    "execution": {
     "iopub.execute_input": "2022-03-01T10:39:14.435673Z",
     "iopub.status.busy": "2022-03-01T10:39:14.434751Z",
     "iopub.status.idle": "2022-03-01T10:39:14.615529Z",
     "shell.execute_reply": "2022-03-01T10:39:14.615013Z",
     "shell.execute_reply.started": "2022-03-01T10:35:18.577586Z"
    },
    "papermill": {
     "duration": 0.24384,
     "end_time": "2022-03-01T10:39:14.615676",
     "exception": false,
     "start_time": "2022-03-01T10:39:14.371836",
     "status": "completed"
    },
    "tags": []
   },
   "outputs": [
    {
     "name": "stderr",
     "output_type": "stream",
     "text": [
      "/opt/conda/lib/python3.7/site-packages/seaborn/distributions.py:2557: FutureWarning: `distplot` is a deprecated function and will be removed in a future version. Please adapt your code to use either `displot` (a figure-level function with similar flexibility) or `histplot` (an axes-level function for histograms).\n",
      "  warnings.warn(msg, FutureWarning)\n"
     ]
    },
    {
     "data": {
      "text/plain": [
       "<AxesSubplot:xlabel='Age', ylabel='Density'>"
      ]
     },
     "execution_count": 47,
     "metadata": {},
     "output_type": "execute_result"
    },
    {
     "data": {
      "image/png": "[encoded data removed]",
      "text/plain": [
       "<Figure size 432x288 with 1 Axes>"
      ]
     },
     "metadata": {
      "needs_background": "light"
     },
     "output_type": "display_data"
    }
   ],
   "source": [
    "sns.distplot(train_data['Age'])"
   ]
  },
  {
   "cell_type": "code",
   "execution_count": 48,
   "id": "imported-friendship",
   "metadata": {
    "execution": {
     "iopub.execute_input": "2022-03-01T10:39:14.743745Z",
     "iopub.status.busy": "2022-03-01T10:39:14.743147Z",
     "iopub.status.idle": "2022-03-01T10:39:14.751297Z",
     "shell.execute_reply": "2022-03-01T10:39:14.751876Z",
     "shell.execute_reply.started": "2022-03-01T10:35:18.800417Z"
    },
    "papermill": {
     "duration": 0.075449,
     "end_time": "2022-03-01T10:39:14.752051",
     "exception": false,
     "start_time": "2022-03-01T10:39:14.676602",
     "status": "completed"
    },
    "tags": []
   },
   "outputs": [
    {
     "data": {
      "text/plain": [
       "count    891.000000\n",
       "mean      32.204208\n",
       "std       49.693429\n",
       "min        0.000000\n",
       "25%        7.910400\n",
       "50%       14.454200\n",
       "75%       31.000000\n",
       "max      512.329200\n",
       "Name: Fare, dtype: float64"
      ]
     },
     "execution_count": 48,
     "metadata": {},
     "output_type": "execute_result"
    }
   ],
   "source": [
    "train_data['Fare'].describe()"
   ]
  },
  {
   "cell_type": "code",
   "execution_count": 49,
   "id": "decimal-facility",
   "metadata": {
    "execution": {
     "iopub.execute_input": "2022-03-01T10:39:14.879124Z",
     "iopub.status.busy": "2022-03-01T10:39:14.878525Z",
     "iopub.status.idle": "2022-03-01T10:39:15.046164Z",
     "shell.execute_reply": "2022-03-01T10:39:15.046660Z",
     "shell.execute_reply.started": "2022-03-01T10:35:19.370064Z"
    },
    "papermill": {
     "duration": 0.232641,
     "end_time": "2022-03-01T10:39:15.046830",
     "exception": false,
     "start_time": "2022-03-01T10:39:14.814189",
     "status": "completed"
    },
    "tags": []
   },
   "outputs": [
    {
     "data": {
      "image/png": "[encoded data removed]",
      "text/plain": [
       "<Figure size 504x360 with 1 Axes>"
      ]
     },
     "metadata": {
      "needs_background": "light"
     },
     "output_type": "display_data"
    }
   ],
   "source": [
    "plt.figure(figsize=(7,5))\n",
    "sns.barplot(x=train_data['Survived'], y=train_data['Fare'])\n",
    "plt.title('Survived vs Non-Survived: on the basis of fare')\n",
    "plt.show()"
   ]
  },
  {
   "cell_type": "markdown",
   "id": "latter-mathematics",
   "metadata": {
    "papermill": {
     "duration": 0.063562,
     "end_time": "2022-03-01T10:39:15.171690",
     "exception": false,
     "start_time": "2022-03-01T10:39:15.108128",
     "status": "completed"
    },
    "tags": []
   },
   "source": [
    "Survived people had payed more fare than the once who died"
   ]
  },
  {
   "cell_type": "code",
   "execution_count": 50,
   "id": "associate-lawyer",
   "metadata": {
    "execution": {
     "iopub.execute_input": "2022-03-01T10:39:15.304531Z",
     "iopub.status.busy": "2022-03-01T10:39:15.302651Z",
     "iopub.status.idle": "2022-03-01T10:39:15.486642Z",
     "shell.execute_reply": "2022-03-01T10:39:15.487081Z",
     "shell.execute_reply.started": "2022-03-01T10:35:20.219635Z"
    },
    "papermill": {
     "duration": 0.251405,
     "end_time": "2022-03-01T10:39:15.487266",
     "exception": false,
     "start_time": "2022-03-01T10:39:15.235861",
     "status": "completed"
    },
    "tags": []
   },
   "outputs": [
    {
     "data": {
      "image/png": "[encoded data removed]",
      "text/plain": [
       "<Figure size 504x360 with 1 Axes>"
      ]
     },
     "metadata": {
      "needs_background": "light"
     },
     "output_type": "display_data"
    }
   ],
   "source": [
    "plt.figure(figsize=(7,5))\n",
    "sns.barplot(x=train_data['Pclass'], y=train_data['Fare'])\n",
    "plt.title('Passenger Class vs Fare')\n",
    "plt.show()"
   ]
  },
  {
   "cell_type": "markdown",
   "id": "alpha-wayne",
   "metadata": {
    "papermill": {
     "duration": 0.067012,
     "end_time": "2022-03-01T10:39:15.616745",
     "exception": false,
     "start_time": "2022-03-01T10:39:15.549733",
     "status": "completed"
    },
    "tags": []
   },
   "source": [
    "Fare comparision order: Class 1 > Class 2 > Class 3"
   ]
  },
  {
   "cell_type": "code",
   "execution_count": 51,
   "id": "exposed-phrase",
   "metadata": {
    "execution": {
     "iopub.execute_input": "2022-03-01T10:39:15.746091Z",
     "iopub.status.busy": "2022-03-01T10:39:15.745477Z",
     "iopub.status.idle": "2022-03-01T10:39:15.751555Z",
     "shell.execute_reply": "2022-03-01T10:39:15.752179Z",
     "shell.execute_reply.started": "2022-03-01T10:35:20.813639Z"
    },
    "papermill": {
     "duration": 0.070543,
     "end_time": "2022-03-01T10:39:15.752488",
     "exception": false,
     "start_time": "2022-03-01T10:39:15.681945",
     "status": "completed"
    },
    "tags": []
   },
   "outputs": [
    {
     "data": {
      "text/plain": [
       "3    491\n",
       "1    216\n",
       "2    184\n",
       "Name: Pclass, dtype: int64"
      ]
     },
     "execution_count": 51,
     "metadata": {},
     "output_type": "execute_result"
    }
   ],
   "source": [
    "train_data['Pclass'].value_counts()"
   ]
  },
  {
   "cell_type": "code",
   "execution_count": 52,
   "id": "political-coaching",
   "metadata": {
    "execution": {
     "iopub.execute_input": "2022-03-01T10:39:15.883180Z",
     "iopub.status.busy": "2022-03-01T10:39:15.882526Z",
     "iopub.status.idle": "2022-03-01T10:39:16.058605Z",
     "shell.execute_reply": "2022-03-01T10:39:16.057953Z",
     "shell.execute_reply.started": "2022-03-01T10:35:20.997999Z"
    },
    "papermill": {
     "duration": 0.24648,
     "end_time": "2022-03-01T10:39:16.058747",
     "exception": false,
     "start_time": "2022-03-01T10:39:15.812267",
     "status": "completed"
    },
    "tags": []
   },
   "outputs": [
    {
     "data": {
      "image/png": "[encoded data removed]",
      "text/plain": [
       "<Figure size 504x360 with 1 Axes>"
      ]
     },
     "metadata": {
      "needs_background": "light"
     },
     "output_type": "display_data"
    }
   ],
   "source": [
    "plt.figure(figsize=(7,5))\n",
    "sns.barplot(x=train_data['Sex'], y=train_data['Survived'])\n",
    "plt.title('Survival: Male vs Female')\n",
    "plt.show()\n",
    "#,hue=train_data['Sex']"
   ]
  },
  {
   "cell_type": "markdown",
   "id": "reduced-bracket",
   "metadata": {
    "papermill": {
     "duration": 0.06368,
     "end_time": "2022-03-01T10:39:16.183655",
     "exception": false,
     "start_time": "2022-03-01T10:39:16.119975",
     "status": "completed"
    },
    "tags": []
   },
   "source": [
    "Female survival rate was higher than male"
   ]
  },
  {
   "cell_type": "code",
   "execution_count": 53,
   "id": "tamil-advocate",
   "metadata": {
    "execution": {
     "iopub.execute_input": "2022-03-01T10:39:16.311487Z",
     "iopub.status.busy": "2022-03-01T10:39:16.310870Z",
     "iopub.status.idle": "2022-03-01T10:39:16.513423Z",
     "shell.execute_reply": "2022-03-01T10:39:16.512786Z",
     "shell.execute_reply.started": "2022-03-01T10:35:21.365104Z"
    },
    "papermill": {
     "duration": 0.268558,
     "end_time": "2022-03-01T10:39:16.513585",
     "exception": false,
     "start_time": "2022-03-01T10:39:16.245027",
     "status": "completed"
    },
    "tags": []
   },
   "outputs": [
    {
     "data": {
      "image/png": "[encoded data removed]",
      "text/plain": [
       "<Figure size 504x360 with 1 Axes>"
      ]
     },
     "metadata": {
      "needs_background": "light"
     },
     "output_type": "display_data"
    }
   ],
   "source": [
    "plt.figure(figsize=(7,5))\n",
    "sns.barplot(x=train_data['Pclass'], y=train_data['Survived'])\n",
    "plt.title('Survival: on the basis of Pclass')\n",
    "plt.show()"
   ]
  },
  {
   "cell_type": "markdown",
   "id": "absent-jesus",
   "metadata": {
    "papermill": {
     "duration": 0.065544,
     "end_time": "2022-03-01T10:39:16.645445",
     "exception": false,
     "start_time": "2022-03-01T10:39:16.579901",
     "status": "completed"
    },
    "tags": []
   },
   "source": [
    "Survival Rate comparison order: Class 1 > Class 2 > Class 3"
   ]
  },
  {
   "cell_type": "markdown",
   "id": "guilty-climb",
   "metadata": {
    "papermill": {
     "duration": 0.063166,
     "end_time": "2022-03-01T10:39:16.775434",
     "exception": false,
     "start_time": "2022-03-01T10:39:16.712268",
     "status": "completed"
    },
    "tags": []
   },
   "source": []
  },
  {
   "cell_type": "markdown",
   "id": "improving-fundamental",
   "metadata": {
    "papermill": {
     "duration": 0.063466,
     "end_time": "2022-03-01T10:39:16.901472",
     "exception": false,
     "start_time": "2022-03-01T10:39:16.838006",
     "status": "completed"
    },
    "tags": []
   },
   "source": []
  },
  {
   "cell_type": "code",
   "execution_count": 54,
   "id": "opposed-drinking",
   "metadata": {
    "execution": {
     "iopub.execute_input": "2022-03-01T10:39:17.040606Z",
     "iopub.status.busy": "2022-03-01T10:39:17.039663Z",
     "iopub.status.idle": "2022-03-01T10:39:17.201425Z",
     "shell.execute_reply": "2022-03-01T10:39:17.200840Z",
     "shell.execute_reply.started": "2022-03-01T10:35:22.465552Z"
    },
    "papermill": {
     "duration": 0.234719,
     "end_time": "2022-03-01T10:39:17.201570",
     "exception": false,
     "start_time": "2022-03-01T10:39:16.966851",
     "status": "completed"
    },
    "tags": []
   },
   "outputs": [
    {
     "data": {
      "image/png": "[encoded data removed]",
      "text/plain": [
       "<Figure size 432x288 with 1 Axes>"
      ]
     },
     "metadata": {},
     "output_type": "display_data"
    }
   ],
   "source": [
    "sns.set_style('whitegrid')\n",
    "sns.countplot(x='Survived', hue='Pclass', data=train_data, palette='rainbow')\n",
    "plt.show()"
   ]
  },
  {
   "cell_type": "code",
   "execution_count": 55,
   "id": "patent-terrain",
   "metadata": {
    "execution": {
     "iopub.execute_input": "2022-03-01T10:39:17.341841Z",
     "iopub.status.busy": "2022-03-01T10:39:17.340887Z",
     "iopub.status.idle": "2022-03-01T10:39:17.516499Z",
     "shell.execute_reply": "2022-03-01T10:39:17.515586Z",
     "shell.execute_reply.started": "2022-03-01T10:35:23.292590Z"
    },
    "papermill": {
     "duration": 0.246003,
     "end_time": "2022-03-01T10:39:17.516655",
     "exception": false,
     "start_time": "2022-03-01T10:39:17.270652",
     "status": "completed"
    },
    "tags": []
   },
   "outputs": [
    {
     "data": {
      "image/png": "[encoded data removed]",
      "text/plain": [
       "<Figure size 432x288 with 1 Axes>"
      ]
     },
     "metadata": {},
     "output_type": "display_data"
    }
   ],
   "source": [
    "sns.countplot(x='Family_members', data=train_data)\n",
    "plt.show()"
   ]
  },
  {
   "cell_type": "code",
   "execution_count": 56,
   "id": "sexual-rotation",
   "metadata": {
    "execution": {
     "iopub.execute_input": "2022-03-01T10:39:17.647600Z",
     "iopub.status.busy": "2022-03-01T10:39:17.646959Z",
     "iopub.status.idle": "2022-03-01T10:39:17.879618Z",
     "shell.execute_reply": "2022-03-01T10:39:17.880111Z",
     "shell.execute_reply.started": "2022-03-01T10:35:23.755164Z"
    },
    "papermill": {
     "duration": 0.298075,
     "end_time": "2022-03-01T10:39:17.880277",
     "exception": false,
     "start_time": "2022-03-01T10:39:17.582202",
     "status": "completed"
    },
    "tags": []
   },
   "outputs": [
    {
     "data": {
      "image/png": "[encoded data removed]",
      "text/plain": [
       "<Figure size 576x288 with 1 Axes>"
      ]
     },
     "metadata": {},
     "output_type": "display_data"
    }
   ],
   "source": [
    "train_data['Fare'].hist(color='green', bins=40,figsize=(8,4))\n",
    "plt.show()"
   ]
  },
  {
   "cell_type": "code",
   "execution_count": 57,
   "id": "rising-uruguay",
   "metadata": {
    "execution": {
     "iopub.execute_input": "2022-03-01T10:39:18.010134Z",
     "iopub.status.busy": "2022-03-01T10:39:18.009399Z",
     "iopub.status.idle": "2022-03-01T10:39:18.202437Z",
     "shell.execute_reply": "2022-03-01T10:39:18.201783Z",
     "shell.execute_reply.started": "2022-03-01T10:35:24.152057Z"
    },
    "papermill": {
     "duration": 0.258567,
     "end_time": "2022-03-01T10:39:18.202582",
     "exception": false,
     "start_time": "2022-03-01T10:39:17.944015",
     "status": "completed"
    },
    "tags": []
   },
   "outputs": [
    {
     "data": {
      "text/plain": [
       "<AxesSubplot:xlabel='Pclass', ylabel='Age'>"
      ]
     },
     "execution_count": 57,
     "metadata": {},
     "output_type": "execute_result"
    },
    {
     "data": {
      "image/png": "[encoded data removed]",
      "text/plain": [
       "<Figure size 864x504 with 1 Axes>"
      ]
     },
     "metadata": {},
     "output_type": "display_data"
    }
   ],
   "source": [
    "plt.figure(figsize=(12,7))\n",
    "sns.boxplot(x='Pclass', y='Age', data=train_data, palette='winter')"
   ]
  },
  {
   "cell_type": "code",
   "execution_count": 58,
   "id": "enabling-bride",
   "metadata": {
    "execution": {
     "iopub.execute_input": "2022-03-01T10:39:18.365559Z",
     "iopub.status.busy": "2022-03-01T10:39:18.364636Z",
     "iopub.status.idle": "2022-03-01T10:39:18.377644Z",
     "shell.execute_reply": "2022-03-01T10:39:18.377153Z",
     "shell.execute_reply.started": "2022-03-01T10:35:24.720791Z"
    },
    "papermill": {
     "duration": 0.105899,
     "end_time": "2022-03-01T10:39:18.377778",
     "exception": false,
     "start_time": "2022-03-01T10:39:18.271879",
     "status": "completed"
    },
    "tags": []
   },
   "outputs": [
    {
     "data": {
      "text/html": [
       "<div>\n",
       "<style scoped>\n",
       "    .dataframe tbody tr th:only-of-type {\n",
       "        vertical-align: middle;\n",
       "    }\n",
       "\n",
       "    .dataframe tbody tr th {\n",
       "        vertical-align: top;\n",
       "    }\n",
       "\n",
       "    .dataframe thead th {\n",
       "        text-align: right;\n",
       "    }\n",
       "</style>\n",
       "<table border=\"1\" class=\"dataframe\">\n",
       "  <thead>\n",
       "    <tr style=\"text-align: right;\">\n",
       "      <th></th>\n",
       "      <th>Q</th>\n",
       "      <th>S</th>\n",
       "    </tr>\n",
       "  </thead>\n",
       "  <tbody>\n",
       "    <tr>\n",
       "      <th>0</th>\n",
       "      <td>0</td>\n",
       "      <td>1</td>\n",
       "    </tr>\n",
       "    <tr>\n",
       "      <th>1</th>\n",
       "      <td>0</td>\n",
       "      <td>0</td>\n",
       "    </tr>\n",
       "    <tr>\n",
       "      <th>2</th>\n",
       "      <td>0</td>\n",
       "      <td>1</td>\n",
       "    </tr>\n",
       "    <tr>\n",
       "      <th>3</th>\n",
       "      <td>0</td>\n",
       "      <td>1</td>\n",
       "    </tr>\n",
       "    <tr>\n",
       "      <th>4</th>\n",
       "      <td>0</td>\n",
       "      <td>1</td>\n",
       "    </tr>\n",
       "  </tbody>\n",
       "</table>\n",
       "</div>"
      ],
      "text/plain": [
       "   Q  S\n",
       "0  0  1\n",
       "1  0  0\n",
       "2  0  1\n",
       "3  0  1\n",
       "4  0  1"
      ]
     },
     "execution_count": 58,
     "metadata": {},
     "output_type": "execute_result"
    }
   ],
   "source": [
    "pd.get_dummies(train_data['Embarked'],drop_first=True).head()"
   ]
  },
  {
   "cell_type": "code",
   "execution_count": 59,
   "id": "gothic-attempt",
   "metadata": {
    "execution": {
     "iopub.execute_input": "2022-03-01T10:39:18.512192Z",
     "iopub.status.busy": "2022-03-01T10:39:18.511366Z",
     "iopub.status.idle": "2022-03-01T10:39:18.520094Z",
     "shell.execute_reply": "2022-03-01T10:39:18.520570Z",
     "shell.execute_reply.started": "2022-03-01T10:35:25.526894Z"
    },
    "papermill": {
     "duration": 0.077055,
     "end_time": "2022-03-01T10:39:18.520757",
     "exception": false,
     "start_time": "2022-03-01T10:39:18.443702",
     "status": "completed"
    },
    "tags": []
   },
   "outputs": [
    {
     "data": {
      "text/html": [
       "<div>\n",
       "<style scoped>\n",
       "    .dataframe tbody tr th:only-of-type {\n",
       "        vertical-align: middle;\n",
       "    }\n",
       "\n",
       "    .dataframe tbody tr th {\n",
       "        vertical-align: top;\n",
       "    }\n",
       "\n",
       "    .dataframe thead th {\n",
       "        text-align: right;\n",
       "    }\n",
       "</style>\n",
       "<table border=\"1\" class=\"dataframe\">\n",
       "  <thead>\n",
       "    <tr style=\"text-align: right;\">\n",
       "      <th></th>\n",
       "      <th>Q</th>\n",
       "      <th>S</th>\n",
       "    </tr>\n",
       "  </thead>\n",
       "  <tbody>\n",
       "    <tr>\n",
       "      <th>0</th>\n",
       "      <td>1</td>\n",
       "      <td>0</td>\n",
       "    </tr>\n",
       "    <tr>\n",
       "      <th>1</th>\n",
       "      <td>0</td>\n",
       "      <td>1</td>\n",
       "    </tr>\n",
       "    <tr>\n",
       "      <th>2</th>\n",
       "      <td>1</td>\n",
       "      <td>0</td>\n",
       "    </tr>\n",
       "    <tr>\n",
       "      <th>3</th>\n",
       "      <td>0</td>\n",
       "      <td>1</td>\n",
       "    </tr>\n",
       "    <tr>\n",
       "      <th>4</th>\n",
       "      <td>0</td>\n",
       "      <td>1</td>\n",
       "    </tr>\n",
       "  </tbody>\n",
       "</table>\n",
       "</div>"
      ],
      "text/plain": [
       "   Q  S\n",
       "0  1  0\n",
       "1  0  1\n",
       "2  1  0\n",
       "3  0  1\n",
       "4  0  1"
      ]
     },
     "execution_count": 59,
     "metadata": {},
     "output_type": "execute_result"
    }
   ],
   "source": [
    "pd.get_dummies(test_data['Embarked'],drop_first=True).head()"
   ]
  },
  {
   "cell_type": "code",
   "execution_count": 60,
   "id": "rental-queensland",
   "metadata": {
    "execution": {
     "iopub.execute_input": "2022-03-01T10:39:18.655563Z",
     "iopub.status.busy": "2022-03-01T10:39:18.654463Z",
     "iopub.status.idle": "2022-03-01T10:39:18.659788Z",
     "shell.execute_reply": "2022-03-01T10:39:18.660273Z",
     "shell.execute_reply.started": "2022-03-01T10:35:26.163926Z"
    },
    "papermill": {
     "duration": 0.075339,
     "end_time": "2022-03-01T10:39:18.660440",
     "exception": false,
     "start_time": "2022-03-01T10:39:18.585101",
     "status": "completed"
    },
    "tags": []
   },
   "outputs": [],
   "source": [
    "sex_train = pd.get_dummies(train_data['Sex'],drop_first=True)\n",
    "embark_train = pd.get_dummies(train_data['Embarked'],drop_first=True)"
   ]
  },
  {
   "cell_type": "code",
   "execution_count": 61,
   "id": "attractive-occupation",
   "metadata": {
    "execution": {
     "iopub.execute_input": "2022-03-01T10:39:18.794479Z",
     "iopub.status.busy": "2022-03-01T10:39:18.793843Z",
     "iopub.status.idle": "2022-03-01T10:39:18.799310Z",
     "shell.execute_reply": "2022-03-01T10:39:18.799775Z",
     "shell.execute_reply.started": "2022-03-01T10:35:28.481748Z"
    },
    "papermill": {
     "duration": 0.073563,
     "end_time": "2022-03-01T10:39:18.799939",
     "exception": false,
     "start_time": "2022-03-01T10:39:18.726376",
     "status": "completed"
    },
    "tags": []
   },
   "outputs": [],
   "source": [
    "sex_test = pd.get_dummies(test_data['Sex'],drop_first=True)\n",
    "embark_test = pd.get_dummies(test_data['Embarked'],drop_first=True)"
   ]
  },
  {
   "cell_type": "code",
   "execution_count": 62,
   "id": "welsh-samoa",
   "metadata": {
    "execution": {
     "iopub.execute_input": "2022-03-01T10:39:18.936290Z",
     "iopub.status.busy": "2022-03-01T10:39:18.935703Z",
     "iopub.status.idle": "2022-03-01T10:39:18.941482Z",
     "shell.execute_reply": "2022-03-01T10:39:18.940851Z",
     "shell.execute_reply.started": "2022-03-01T10:35:29.012169Z"
    },
    "papermill": {
     "duration": 0.075215,
     "end_time": "2022-03-01T10:39:18.941618",
     "exception": false,
     "start_time": "2022-03-01T10:39:18.866403",
     "status": "completed"
    },
    "tags": []
   },
   "outputs": [],
   "source": [
    "train_data.drop(['Sex','Embarked'],axis=1,inplace=True)"
   ]
  },
  {
   "cell_type": "code",
   "execution_count": 63,
   "id": "rocky-force",
   "metadata": {
    "execution": {
     "iopub.execute_input": "2022-03-01T10:39:19.081017Z",
     "iopub.status.busy": "2022-03-01T10:39:19.080395Z",
     "iopub.status.idle": "2022-03-01T10:39:19.083168Z",
     "shell.execute_reply": "2022-03-01T10:39:19.082705Z",
     "shell.execute_reply.started": "2022-03-01T10:35:29.880501Z"
    },
    "papermill": {
     "duration": 0.075354,
     "end_time": "2022-03-01T10:39:19.083303",
     "exception": false,
     "start_time": "2022-03-01T10:39:19.007949",
     "status": "completed"
    },
    "tags": []
   },
   "outputs": [],
   "source": [
    "test_data.drop(['Sex','Embarked'],axis=1,inplace=True)"
   ]
  },
  {
   "cell_type": "code",
   "execution_count": 64,
   "id": "delayed-while",
   "metadata": {
    "execution": {
     "iopub.execute_input": "2022-03-01T10:39:19.276971Z",
     "iopub.status.busy": "2022-03-01T10:39:19.276371Z",
     "iopub.status.idle": "2022-03-01T10:39:19.279255Z",
     "shell.execute_reply": "2022-03-01T10:39:19.279687Z",
     "shell.execute_reply.started": "2022-03-01T10:35:31.428001Z"
    },
    "papermill": {
     "duration": 0.12998,
     "end_time": "2022-03-01T10:39:19.279858",
     "exception": false,
     "start_time": "2022-03-01T10:39:19.149878",
     "status": "completed"
    },
    "tags": []
   },
   "outputs": [
    {
     "data": {
      "text/html": [
       "<div>\n",
       "<style scoped>\n",
       "    .dataframe tbody tr th:only-of-type {\n",
       "        vertical-align: middle;\n",
       "    }\n",
       "\n",
       "    .dataframe tbody tr th {\n",
       "        vertical-align: top;\n",
       "    }\n",
       "\n",
       "    .dataframe thead th {\n",
       "        text-align: right;\n",
       "    }\n",
       "</style>\n",
       "<table border=\"1\" class=\"dataframe\">\n",
       "  <thead>\n",
       "    <tr style=\"text-align: right;\">\n",
       "      <th></th>\n",
       "      <th>PassengerId</th>\n",
       "      <th>Survived</th>\n",
       "      <th>Pclass</th>\n",
       "      <th>Age</th>\n",
       "      <th>Fare</th>\n",
       "      <th>Family_members</th>\n",
       "    </tr>\n",
       "  </thead>\n",
       "  <tbody>\n",
       "    <tr>\n",
       "      <th>0</th>\n",
       "      <td>1</td>\n",
       "      <td>0</td>\n",
       "      <td>3</td>\n",
       "      <td>22.0</td>\n",
       "      <td>7.2500</td>\n",
       "      <td>1</td>\n",
       "    </tr>\n",
       "    <tr>\n",
       "      <th>1</th>\n",
       "      <td>2</td>\n",
       "      <td>1</td>\n",
       "      <td>1</td>\n",
       "      <td>38.0</td>\n",
       "      <td>71.2833</td>\n",
       "      <td>1</td>\n",
       "    </tr>\n",
       "    <tr>\n",
       "      <th>2</th>\n",
       "      <td>3</td>\n",
       "      <td>1</td>\n",
       "      <td>3</td>\n",
       "      <td>26.0</td>\n",
       "      <td>7.9250</td>\n",
       "      <td>0</td>\n",
       "    </tr>\n",
       "    <tr>\n",
       "      <th>3</th>\n",
       "      <td>4</td>\n",
       "      <td>1</td>\n",
       "      <td>1</td>\n",
       "      <td>35.0</td>\n",
       "      <td>53.1000</td>\n",
       "      <td>1</td>\n",
       "    </tr>\n",
       "    <tr>\n",
       "      <th>4</th>\n",
       "      <td>5</td>\n",
       "      <td>0</td>\n",
       "      <td>3</td>\n",
       "      <td>35.0</td>\n",
       "      <td>8.0500</td>\n",
       "      <td>0</td>\n",
       "    </tr>\n",
       "  </tbody>\n",
       "</table>\n",
       "</div>"
      ],
      "text/plain": [
       "   PassengerId  Survived  Pclass   Age     Fare  Family_members\n",
       "0            1         0       3  22.0   7.2500               1\n",
       "1            2         1       1  38.0  71.2833               1\n",
       "2            3         1       3  26.0   7.9250               0\n",
       "3            4         1       1  35.0  53.1000               1\n",
       "4            5         0       3  35.0   8.0500               0"
      ]
     },
     "execution_count": 64,
     "metadata": {},
     "output_type": "execute_result"
    }
   ],
   "source": [
    "train_data.head()"
   ]
  },
  {
   "cell_type": "code",
   "execution_count": 65,
   "id": "closed-arthritis",
   "metadata": {
    "execution": {
     "iopub.execute_input": "2022-03-01T10:39:19.419671Z",
     "iopub.status.busy": "2022-03-01T10:39:19.418609Z",
     "iopub.status.idle": "2022-03-01T10:39:19.429261Z",
     "shell.execute_reply": "2022-03-01T10:39:19.429743Z",
     "shell.execute_reply.started": "2022-03-01T10:35:32.515131Z"
    },
    "papermill": {
     "duration": 0.082722,
     "end_time": "2022-03-01T10:39:19.429933",
     "exception": false,
     "start_time": "2022-03-01T10:39:19.347211",
     "status": "completed"
    },
    "tags": []
   },
   "outputs": [
    {
     "data": {
      "text/html": [
       "<div>\n",
       "<style scoped>\n",
       "    .dataframe tbody tr th:only-of-type {\n",
       "        vertical-align: middle;\n",
       "    }\n",
       "\n",
       "    .dataframe tbody tr th {\n",
       "        vertical-align: top;\n",
       "    }\n",
       "\n",
       "    .dataframe thead th {\n",
       "        text-align: right;\n",
       "    }\n",
       "</style>\n",
       "<table border=\"1\" class=\"dataframe\">\n",
       "  <thead>\n",
       "    <tr style=\"text-align: right;\">\n",
       "      <th></th>\n",
       "      <th>PassengerId</th>\n",
       "      <th>Pclass</th>\n",
       "      <th>Age</th>\n",
       "      <th>Fare</th>\n",
       "      <th>Family_members</th>\n",
       "    </tr>\n",
       "  </thead>\n",
       "  <tbody>\n",
       "    <tr>\n",
       "      <th>0</th>\n",
       "      <td>892</td>\n",
       "      <td>3</td>\n",
       "      <td>34.5</td>\n",
       "      <td>7.8292</td>\n",
       "      <td>0</td>\n",
       "    </tr>\n",
       "    <tr>\n",
       "      <th>1</th>\n",
       "      <td>893</td>\n",
       "      <td>3</td>\n",
       "      <td>47.0</td>\n",
       "      <td>7.0000</td>\n",
       "      <td>1</td>\n",
       "    </tr>\n",
       "    <tr>\n",
       "      <th>2</th>\n",
       "      <td>894</td>\n",
       "      <td>2</td>\n",
       "      <td>62.0</td>\n",
       "      <td>9.6875</td>\n",
       "      <td>0</td>\n",
       "    </tr>\n",
       "    <tr>\n",
       "      <th>3</th>\n",
       "      <td>895</td>\n",
       "      <td>3</td>\n",
       "      <td>27.0</td>\n",
       "      <td>8.6625</td>\n",
       "      <td>0</td>\n",
       "    </tr>\n",
       "    <tr>\n",
       "      <th>4</th>\n",
       "      <td>896</td>\n",
       "      <td>3</td>\n",
       "      <td>22.0</td>\n",
       "      <td>12.2875</td>\n",
       "      <td>2</td>\n",
       "    </tr>\n",
       "  </tbody>\n",
       "</table>\n",
       "</div>"
      ],
      "text/plain": [
       "   PassengerId  Pclass   Age     Fare  Family_members\n",
       "0          892       3  34.5   7.8292               0\n",
       "1          893       3  47.0   7.0000               1\n",
       "2          894       2  62.0   9.6875               0\n",
       "3          895       3  27.0   8.6625               0\n",
       "4          896       3  22.0  12.2875               2"
      ]
     },
     "execution_count": 65,
     "metadata": {},
     "output_type": "execute_result"
    }
   ],
   "source": [
    "test_data.head()"
   ]
  },
  {
   "cell_type": "code",
   "execution_count": 66,
   "id": "interstate-validation",
   "metadata": {
    "execution": {
     "iopub.execute_input": "2022-03-01T10:39:19.583694Z",
     "iopub.status.busy": "2022-03-01T10:39:19.583036Z",
     "iopub.status.idle": "2022-03-01T10:39:19.586918Z",
     "shell.execute_reply": "2022-03-01T10:39:19.586421Z",
     "shell.execute_reply.started": "2022-03-01T10:35:33.539246Z"
    },
    "papermill": {
     "duration": 0.086018,
     "end_time": "2022-03-01T10:39:19.587081",
     "exception": false,
     "start_time": "2022-03-01T10:39:19.501063",
     "status": "completed"
    },
    "tags": []
   },
   "outputs": [
    {
     "data": {
      "text/html": [
       "<div>\n",
       "<style scoped>\n",
       "    .dataframe tbody tr th:only-of-type {\n",
       "        vertical-align: middle;\n",
       "    }\n",
       "\n",
       "    .dataframe tbody tr th {\n",
       "        vertical-align: top;\n",
       "    }\n",
       "\n",
       "    .dataframe thead th {\n",
       "        text-align: right;\n",
       "    }\n",
       "</style>\n",
       "<table border=\"1\" class=\"dataframe\">\n",
       "  <thead>\n",
       "    <tr style=\"text-align: right;\">\n",
       "      <th></th>\n",
       "      <th>PassengerId</th>\n",
       "      <th>Survived</th>\n",
       "      <th>Pclass</th>\n",
       "      <th>Age</th>\n",
       "      <th>Fare</th>\n",
       "      <th>Family_members</th>\n",
       "      <th>male</th>\n",
       "      <th>Q</th>\n",
       "      <th>S</th>\n",
       "    </tr>\n",
       "  </thead>\n",
       "  <tbody>\n",
       "    <tr>\n",
       "      <th>0</th>\n",
       "      <td>1</td>\n",
       "      <td>0</td>\n",
       "      <td>3</td>\n",
       "      <td>22.0</td>\n",
       "      <td>7.2500</td>\n",
       "      <td>1</td>\n",
       "      <td>1</td>\n",
       "      <td>0</td>\n",
       "      <td>1</td>\n",
       "    </tr>\n",
       "    <tr>\n",
       "      <th>1</th>\n",
       "      <td>2</td>\n",
       "      <td>1</td>\n",
       "      <td>1</td>\n",
       "      <td>38.0</td>\n",
       "      <td>71.2833</td>\n",
       "      <td>1</td>\n",
       "      <td>0</td>\n",
       "      <td>0</td>\n",
       "      <td>0</td>\n",
       "    </tr>\n",
       "    <tr>\n",
       "      <th>2</th>\n",
       "      <td>3</td>\n",
       "      <td>1</td>\n",
       "      <td>3</td>\n",
       "      <td>26.0</td>\n",
       "      <td>7.9250</td>\n",
       "      <td>0</td>\n",
       "      <td>0</td>\n",
       "      <td>0</td>\n",
       "      <td>1</td>\n",
       "    </tr>\n",
       "    <tr>\n",
       "      <th>3</th>\n",
       "      <td>4</td>\n",
       "      <td>1</td>\n",
       "      <td>1</td>\n",
       "      <td>35.0</td>\n",
       "      <td>53.1000</td>\n",
       "      <td>1</td>\n",
       "      <td>0</td>\n",
       "      <td>0</td>\n",
       "      <td>1</td>\n",
       "    </tr>\n",
       "    <tr>\n",
       "      <th>4</th>\n",
       "      <td>5</td>\n",
       "      <td>0</td>\n",
       "      <td>3</td>\n",
       "      <td>35.0</td>\n",
       "      <td>8.0500</td>\n",
       "      <td>0</td>\n",
       "      <td>1</td>\n",
       "      <td>0</td>\n",
       "      <td>1</td>\n",
       "    </tr>\n",
       "  </tbody>\n",
       "</table>\n",
       "</div>"
      ],
      "text/plain": [
       "   PassengerId  Survived  Pclass   Age     Fare  Family_members  male  Q  S\n",
       "0            1         0       3  22.0   7.2500               1     1  0  1\n",
       "1            2         1       1  38.0  71.2833               1     0  0  0\n",
       "2            3         1       3  26.0   7.9250               0     0  0  1\n",
       "3            4         1       1  35.0  53.1000               1     0  0  1\n",
       "4            5         0       3  35.0   8.0500               0     1  0  1"
      ]
     },
     "execution_count": 66,
     "metadata": {},
     "output_type": "execute_result"
    }
   ],
   "source": [
    "train_data = pd.concat([train_data,sex_train,embark_train],axis=1)\n",
    "train_data.head()"
   ]
  },
  {
   "cell_type": "code",
   "execution_count": 67,
   "id": "finnish-highland",
   "metadata": {
    "execution": {
     "iopub.execute_input": "2022-03-01T10:39:19.727098Z",
     "iopub.status.busy": "2022-03-01T10:39:19.726507Z",
     "iopub.status.idle": "2022-03-01T10:39:19.731896Z",
     "shell.execute_reply": "2022-03-01T10:39:19.732378Z",
     "shell.execute_reply.started": "2022-03-01T10:35:34.532089Z"
    },
    "papermill": {
     "duration": 0.077254,
     "end_time": "2022-03-01T10:39:19.732543",
     "exception": false,
     "start_time": "2022-03-01T10:39:19.655289",
     "status": "completed"
    },
    "tags": []
   },
   "outputs": [],
   "source": [
    "test_data = pd.concat([test_data,sex_test,embark_test],axis=1)"
   ]
  },
  {
   "cell_type": "code",
   "execution_count": 68,
   "id": "powerful-speaker",
   "metadata": {
    "execution": {
     "iopub.execute_input": "2022-03-01T10:39:19.878997Z",
     "iopub.status.busy": "2022-03-01T10:39:19.878419Z",
     "iopub.status.idle": "2022-03-01T10:39:19.889524Z",
     "shell.execute_reply": "2022-03-01T10:39:19.889975Z",
     "shell.execute_reply.started": "2022-03-01T10:35:35.125355Z"
    },
    "papermill": {
     "duration": 0.086792,
     "end_time": "2022-03-01T10:39:19.890199",
     "exception": false,
     "start_time": "2022-03-01T10:39:19.803407",
     "status": "completed"
    },
    "tags": []
   },
   "outputs": [
    {
     "data": {
      "text/html": [
       "<div>\n",
       "<style scoped>\n",
       "    .dataframe tbody tr th:only-of-type {\n",
       "        vertical-align: middle;\n",
       "    }\n",
       "\n",
       "    .dataframe tbody tr th {\n",
       "        vertical-align: top;\n",
       "    }\n",
       "\n",
       "    .dataframe thead th {\n",
       "        text-align: right;\n",
       "    }\n",
       "</style>\n",
       "<table border=\"1\" class=\"dataframe\">\n",
       "  <thead>\n",
       "    <tr style=\"text-align: right;\">\n",
       "      <th></th>\n",
       "      <th>PassengerId</th>\n",
       "      <th>Pclass</th>\n",
       "      <th>Age</th>\n",
       "      <th>Fare</th>\n",
       "      <th>Family_members</th>\n",
       "      <th>male</th>\n",
       "      <th>Q</th>\n",
       "      <th>S</th>\n",
       "    </tr>\n",
       "  </thead>\n",
       "  <tbody>\n",
       "    <tr>\n",
       "      <th>0</th>\n",
       "      <td>892</td>\n",
       "      <td>3</td>\n",
       "      <td>34.5</td>\n",
       "      <td>7.8292</td>\n",
       "      <td>0</td>\n",
       "      <td>1</td>\n",
       "      <td>1</td>\n",
       "      <td>0</td>\n",
       "    </tr>\n",
       "    <tr>\n",
       "      <th>1</th>\n",
       "      <td>893</td>\n",
       "      <td>3</td>\n",
       "      <td>47.0</td>\n",
       "      <td>7.0000</td>\n",
       "      <td>1</td>\n",
       "      <td>0</td>\n",
       "      <td>0</td>\n",
       "      <td>1</td>\n",
       "    </tr>\n",
       "    <tr>\n",
       "      <th>2</th>\n",
       "      <td>894</td>\n",
       "      <td>2</td>\n",
       "      <td>62.0</td>\n",
       "      <td>9.6875</td>\n",
       "      <td>0</td>\n",
       "      <td>1</td>\n",
       "      <td>1</td>\n",
       "      <td>0</td>\n",
       "    </tr>\n",
       "    <tr>\n",
       "      <th>3</th>\n",
       "      <td>895</td>\n",
       "      <td>3</td>\n",
       "      <td>27.0</td>\n",
       "      <td>8.6625</td>\n",
       "      <td>0</td>\n",
       "      <td>1</td>\n",
       "      <td>0</td>\n",
       "      <td>1</td>\n",
       "    </tr>\n",
       "    <tr>\n",
       "      <th>4</th>\n",
       "      <td>896</td>\n",
       "      <td>3</td>\n",
       "      <td>22.0</td>\n",
       "      <td>12.2875</td>\n",
       "      <td>2</td>\n",
       "      <td>0</td>\n",
       "      <td>0</td>\n",
       "      <td>1</td>\n",
       "    </tr>\n",
       "  </tbody>\n",
       "</table>\n",
       "</div>"
      ],
      "text/plain": [
       "   PassengerId  Pclass   Age     Fare  Family_members  male  Q  S\n",
       "0          892       3  34.5   7.8292               0     1  1  0\n",
       "1          893       3  47.0   7.0000               1     0  0  1\n",
       "2          894       2  62.0   9.6875               0     1  1  0\n",
       "3          895       3  27.0   8.6625               0     1  0  1\n",
       "4          896       3  22.0  12.2875               2     0  0  1"
      ]
     },
     "execution_count": 68,
     "metadata": {},
     "output_type": "execute_result"
    }
   ],
   "source": [
    "test_data.head()"
   ]
  },
  {
   "cell_type": "code",
   "execution_count": 69,
   "id": "bigger-classification",
   "metadata": {
    "execution": {
     "iopub.execute_input": "2022-03-01T10:39:20.042579Z",
     "iopub.status.busy": "2022-03-01T10:39:20.041958Z",
     "iopub.status.idle": "2022-03-01T10:39:20.056603Z",
     "shell.execute_reply": "2022-03-01T10:39:20.056097Z",
     "shell.execute_reply.started": "2022-03-01T10:35:35.691566Z"
    },
    "papermill": {
     "duration": 0.091793,
     "end_time": "2022-03-01T10:39:20.056753",
     "exception": false,
     "start_time": "2022-03-01T10:39:19.964960",
     "status": "completed"
    },
    "tags": []
   },
   "outputs": [
    {
     "data": {
      "text/html": [
       "<div>\n",
       "<style scoped>\n",
       "    .dataframe tbody tr th:only-of-type {\n",
       "        vertical-align: middle;\n",
       "    }\n",
       "\n",
       "    .dataframe tbody tr th {\n",
       "        vertical-align: top;\n",
       "    }\n",
       "\n",
       "    .dataframe thead th {\n",
       "        text-align: right;\n",
       "    }\n",
       "</style>\n",
       "<table border=\"1\" class=\"dataframe\">\n",
       "  <thead>\n",
       "    <tr style=\"text-align: right;\">\n",
       "      <th></th>\n",
       "      <th>PassengerId</th>\n",
       "      <th>Pclass</th>\n",
       "      <th>Age</th>\n",
       "      <th>Fare</th>\n",
       "      <th>Family_members</th>\n",
       "      <th>male</th>\n",
       "      <th>Q</th>\n",
       "      <th>S</th>\n",
       "    </tr>\n",
       "  </thead>\n",
       "  <tbody>\n",
       "    <tr>\n",
       "      <th>0</th>\n",
       "      <td>1</td>\n",
       "      <td>3</td>\n",
       "      <td>22.0</td>\n",
       "      <td>7.2500</td>\n",
       "      <td>1</td>\n",
       "      <td>1</td>\n",
       "      <td>0</td>\n",
       "      <td>1</td>\n",
       "    </tr>\n",
       "    <tr>\n",
       "      <th>1</th>\n",
       "      <td>2</td>\n",
       "      <td>1</td>\n",
       "      <td>38.0</td>\n",
       "      <td>71.2833</td>\n",
       "      <td>1</td>\n",
       "      <td>0</td>\n",
       "      <td>0</td>\n",
       "      <td>0</td>\n",
       "    </tr>\n",
       "    <tr>\n",
       "      <th>2</th>\n",
       "      <td>3</td>\n",
       "      <td>3</td>\n",
       "      <td>26.0</td>\n",
       "      <td>7.9250</td>\n",
       "      <td>0</td>\n",
       "      <td>0</td>\n",
       "      <td>0</td>\n",
       "      <td>1</td>\n",
       "    </tr>\n",
       "    <tr>\n",
       "      <th>3</th>\n",
       "      <td>4</td>\n",
       "      <td>1</td>\n",
       "      <td>35.0</td>\n",
       "      <td>53.1000</td>\n",
       "      <td>1</td>\n",
       "      <td>0</td>\n",
       "      <td>0</td>\n",
       "      <td>1</td>\n",
       "    </tr>\n",
       "    <tr>\n",
       "      <th>4</th>\n",
       "      <td>5</td>\n",
       "      <td>3</td>\n",
       "      <td>35.0</td>\n",
       "      <td>8.0500</td>\n",
       "      <td>0</td>\n",
       "      <td>1</td>\n",
       "      <td>0</td>\n",
       "      <td>1</td>\n",
       "    </tr>\n",
       "  </tbody>\n",
       "</table>\n",
       "</div>"
      ],
      "text/plain": [
       "   PassengerId  Pclass   Age     Fare  Family_members  male  Q  S\n",
       "0            1       3  22.0   7.2500               1     1  0  1\n",
       "1            2       1  38.0  71.2833               1     0  0  0\n",
       "2            3       3  26.0   7.9250               0     0  0  1\n",
       "3            4       1  35.0  53.1000               1     0  0  1\n",
       "4            5       3  35.0   8.0500               0     1  0  1"
      ]
     },
     "execution_count": 69,
     "metadata": {},
     "output_type": "execute_result"
    }
   ],
   "source": [
    "train_data.drop('Survived',axis=1).head()"
   ]
  },
  {
   "cell_type": "code",
   "execution_count": 70,
   "id": "organizational-period",
   "metadata": {
    "execution": {
     "iopub.execute_input": "2022-03-01T10:39:20.211836Z",
     "iopub.status.busy": "2022-03-01T10:39:20.211058Z",
     "iopub.status.idle": "2022-03-01T10:39:20.214283Z",
     "shell.execute_reply": "2022-03-01T10:39:20.214689Z",
     "shell.execute_reply.started": "2022-03-01T10:35:36.217484Z"
    },
    "papermill": {
     "duration": 0.082284,
     "end_time": "2022-03-01T10:39:20.214963",
     "exception": false,
     "start_time": "2022-03-01T10:39:20.132679",
     "status": "completed"
    },
    "tags": []
   },
   "outputs": [
    {
     "data": {
      "text/plain": [
       "0    0\n",
       "1    1\n",
       "2    1\n",
       "3    1\n",
       "4    0\n",
       "Name: Survived, dtype: int64"
      ]
     },
     "execution_count": 70,
     "metadata": {},
     "output_type": "execute_result"
    }
   ],
   "source": [
    "train_data['Survived'].head()"
   ]
  },
  {
   "cell_type": "code",
   "execution_count": 71,
   "id": "casual-generic",
   "metadata": {
    "execution": {
     "iopub.execute_input": "2022-03-01T10:39:20.361730Z",
     "iopub.status.busy": "2022-03-01T10:39:20.361162Z",
     "iopub.status.idle": "2022-03-01T10:39:20.436464Z",
     "shell.execute_reply": "2022-03-01T10:39:20.435938Z",
     "shell.execute_reply.started": "2022-03-01T10:36:09.545128Z"
    },
    "papermill": {
     "duration": 0.150803,
     "end_time": "2022-03-01T10:39:20.436615",
     "exception": false,
     "start_time": "2022-03-01T10:39:20.285812",
     "status": "completed"
    },
    "tags": []
   },
   "outputs": [],
   "source": [
    "#from sklearn.linear_model import LogisticRegression\n",
    "from sklearn.ensemble import RandomForestClassifier"
   ]
  },
  {
   "cell_type": "code",
   "execution_count": 72,
   "id": "similar-intervention",
   "metadata": {
    "execution": {
     "iopub.execute_input": "2022-03-01T10:39:20.587332Z",
     "iopub.status.busy": "2022-03-01T10:39:20.586690Z",
     "iopub.status.idle": "2022-03-01T10:39:20.590116Z",
     "shell.execute_reply": "2022-03-01T10:39:20.590596Z",
     "shell.execute_reply.started": "2022-03-01T10:37:52.567504Z"
    },
    "papermill": {
     "duration": 0.083461,
     "end_time": "2022-03-01T10:39:20.590783",
     "exception": false,
     "start_time": "2022-03-01T10:39:20.507322",
     "status": "completed"
    },
    "tags": []
   },
   "outputs": [
    {
     "data": {
      "text/plain": [
       "((891, 8), (891,), (418, 8))"
      ]
     },
     "execution_count": 72,
     "metadata": {},
     "output_type": "execute_result"
    }
   ],
   "source": [
    "x_train = train_data.drop(['Survived'],axis=1)\n",
    "y_train = train_data['Survived']\n",
    "x_test = test_data.copy()\n",
    "x_train.shape, y_train.shape, x_test.shape"
   ]
  },
  {
   "cell_type": "code",
   "execution_count": 73,
   "id": "opponent-exploration",
   "metadata": {
    "execution": {
     "iopub.execute_input": "2022-03-01T10:39:20.734377Z",
     "iopub.status.busy": "2022-03-01T10:39:20.733756Z",
     "iopub.status.idle": "2022-03-01T10:39:20.749058Z",
     "shell.execute_reply": "2022-03-01T10:39:20.749620Z",
     "shell.execute_reply.started": "2022-03-01T10:37:53.982997Z"
    },
    "papermill": {
     "duration": 0.088864,
     "end_time": "2022-03-01T10:39:20.749784",
     "exception": false,
     "start_time": "2022-03-01T10:39:20.660920",
     "status": "completed"
    },
    "tags": []
   },
   "outputs": [
    {
     "data": {
      "text/html": [
       "<div>\n",
       "<style scoped>\n",
       "    .dataframe tbody tr th:only-of-type {\n",
       "        vertical-align: middle;\n",
       "    }\n",
       "\n",
       "    .dataframe tbody tr th {\n",
       "        vertical-align: top;\n",
       "    }\n",
       "\n",
       "    .dataframe thead th {\n",
       "        text-align: right;\n",
       "    }\n",
       "</style>\n",
       "<table border=\"1\" class=\"dataframe\">\n",
       "  <thead>\n",
       "    <tr style=\"text-align: right;\">\n",
       "      <th></th>\n",
       "      <th>PassengerId</th>\n",
       "      <th>Pclass</th>\n",
       "      <th>Age</th>\n",
       "      <th>Fare</th>\n",
       "      <th>Family_members</th>\n",
       "      <th>male</th>\n",
       "      <th>Q</th>\n",
       "      <th>S</th>\n",
       "    </tr>\n",
       "  </thead>\n",
       "  <tbody>\n",
       "    <tr>\n",
       "      <th>0</th>\n",
       "      <td>1</td>\n",
       "      <td>3</td>\n",
       "      <td>22.0</td>\n",
       "      <td>7.2500</td>\n",
       "      <td>1</td>\n",
       "      <td>1</td>\n",
       "      <td>0</td>\n",
       "      <td>1</td>\n",
       "    </tr>\n",
       "    <tr>\n",
       "      <th>1</th>\n",
       "      <td>2</td>\n",
       "      <td>1</td>\n",
       "      <td>38.0</td>\n",
       "      <td>71.2833</td>\n",
       "      <td>1</td>\n",
       "      <td>0</td>\n",
       "      <td>0</td>\n",
       "      <td>0</td>\n",
       "    </tr>\n",
       "    <tr>\n",
       "      <th>2</th>\n",
       "      <td>3</td>\n",
       "      <td>3</td>\n",
       "      <td>26.0</td>\n",
       "      <td>7.9250</td>\n",
       "      <td>0</td>\n",
       "      <td>0</td>\n",
       "      <td>0</td>\n",
       "      <td>1</td>\n",
       "    </tr>\n",
       "    <tr>\n",
       "      <th>3</th>\n",
       "      <td>4</td>\n",
       "      <td>1</td>\n",
       "      <td>35.0</td>\n",
       "      <td>53.1000</td>\n",
       "      <td>1</td>\n",
       "      <td>0</td>\n",
       "      <td>0</td>\n",
       "      <td>1</td>\n",
       "    </tr>\n",
       "    <tr>\n",
       "      <th>4</th>\n",
       "      <td>5</td>\n",
       "      <td>3</td>\n",
       "      <td>35.0</td>\n",
       "      <td>8.0500</td>\n",
       "      <td>0</td>\n",
       "      <td>1</td>\n",
       "      <td>0</td>\n",
       "      <td>1</td>\n",
       "    </tr>\n",
       "    <tr>\n",
       "      <th>...</th>\n",
       "      <td>...</td>\n",
       "      <td>...</td>\n",
       "      <td>...</td>\n",
       "      <td>...</td>\n",
       "      <td>...</td>\n",
       "      <td>...</td>\n",
       "      <td>...</td>\n",
       "      <td>...</td>\n",
       "    </tr>\n",
       "    <tr>\n",
       "      <th>886</th>\n",
       "      <td>887</td>\n",
       "      <td>2</td>\n",
       "      <td>27.0</td>\n",
       "      <td>13.0000</td>\n",
       "      <td>0</td>\n",
       "      <td>1</td>\n",
       "      <td>0</td>\n",
       "      <td>1</td>\n",
       "    </tr>\n",
       "    <tr>\n",
       "      <th>887</th>\n",
       "      <td>888</td>\n",
       "      <td>1</td>\n",
       "      <td>19.0</td>\n",
       "      <td>30.0000</td>\n",
       "      <td>0</td>\n",
       "      <td>0</td>\n",
       "      <td>0</td>\n",
       "      <td>1</td>\n",
       "    </tr>\n",
       "    <tr>\n",
       "      <th>888</th>\n",
       "      <td>889</td>\n",
       "      <td>3</td>\n",
       "      <td>26.0</td>\n",
       "      <td>23.4500</td>\n",
       "      <td>3</td>\n",
       "      <td>0</td>\n",
       "      <td>0</td>\n",
       "      <td>1</td>\n",
       "    </tr>\n",
       "    <tr>\n",
       "      <th>889</th>\n",
       "      <td>890</td>\n",
       "      <td>1</td>\n",
       "      <td>26.0</td>\n",
       "      <td>30.0000</td>\n",
       "      <td>0</td>\n",
       "      <td>1</td>\n",
       "      <td>0</td>\n",
       "      <td>0</td>\n",
       "    </tr>\n",
       "    <tr>\n",
       "      <th>890</th>\n",
       "      <td>891</td>\n",
       "      <td>3</td>\n",
       "      <td>32.0</td>\n",
       "      <td>7.7500</td>\n",
       "      <td>0</td>\n",
       "      <td>1</td>\n",
       "      <td>1</td>\n",
       "      <td>0</td>\n",
       "    </tr>\n",
       "  </tbody>\n",
       "</table>\n",
       "<p>891 rows × 8 columns</p>\n",
       "</div>"
      ],
      "text/plain": [
       "     PassengerId  Pclass   Age     Fare  Family_members  male  Q  S\n",
       "0              1       3  22.0   7.2500               1     1  0  1\n",
       "1              2       1  38.0  71.2833               1     0  0  0\n",
       "2              3       3  26.0   7.9250               0     0  0  1\n",
       "3              4       1  35.0  53.1000               1     0  0  1\n",
       "4              5       3  35.0   8.0500               0     1  0  1\n",
       "..           ...     ...   ...      ...             ...   ... .. ..\n",
       "886          887       2  27.0  13.0000               0     1  0  1\n",
       "887          888       1  19.0  30.0000               0     0  0  1\n",
       "888          889       3  26.0  23.4500               3     0  0  1\n",
       "889          890       1  26.0  30.0000               0     1  0  0\n",
       "890          891       3  32.0   7.7500               0     1  1  0\n",
       "\n",
       "[891 rows x 8 columns]"
      ]
     },
     "execution_count": 73,
     "metadata": {},
     "output_type": "execute_result"
    }
   ],
   "source": [
    "x_train"
   ]
  },
  {
   "cell_type": "code",
   "execution_count": 74,
   "id": "operational-generation",
   "metadata": {
    "execution": {
     "iopub.execute_input": "2022-03-01T10:39:20.900779Z",
     "iopub.status.busy": "2022-03-01T10:39:20.900204Z",
     "iopub.status.idle": "2022-03-01T10:39:20.917249Z",
     "shell.execute_reply": "2022-03-01T10:39:20.917709Z",
     "shell.execute_reply.started": "2022-03-01T10:37:54.716811Z"
    },
    "papermill": {
     "duration": 0.095204,
     "end_time": "2022-03-01T10:39:20.917885",
     "exception": false,
     "start_time": "2022-03-01T10:39:20.822681",
     "status": "completed"
    },
    "tags": []
   },
   "outputs": [
    {
     "data": {
      "text/html": [
       "<div>\n",
       "<style scoped>\n",
       "    .dataframe tbody tr th:only-of-type {\n",
       "        vertical-align: middle;\n",
       "    }\n",
       "\n",
       "    .dataframe tbody tr th {\n",
       "        vertical-align: top;\n",
       "    }\n",
       "\n",
       "    .dataframe thead th {\n",
       "        text-align: right;\n",
       "    }\n",
       "</style>\n",
       "<table border=\"1\" class=\"dataframe\">\n",
       "  <thead>\n",
       "    <tr style=\"text-align: right;\">\n",
       "      <th></th>\n",
       "      <th>PassengerId</th>\n",
       "      <th>Pclass</th>\n",
       "      <th>Age</th>\n",
       "      <th>Fare</th>\n",
       "      <th>Family_members</th>\n",
       "      <th>male</th>\n",
       "      <th>Q</th>\n",
       "      <th>S</th>\n",
       "    </tr>\n",
       "  </thead>\n",
       "  <tbody>\n",
       "    <tr>\n",
       "      <th>0</th>\n",
       "      <td>892</td>\n",
       "      <td>3</td>\n",
       "      <td>34.5</td>\n",
       "      <td>7.8292</td>\n",
       "      <td>0</td>\n",
       "      <td>1</td>\n",
       "      <td>1</td>\n",
       "      <td>0</td>\n",
       "    </tr>\n",
       "    <tr>\n",
       "      <th>1</th>\n",
       "      <td>893</td>\n",
       "      <td>3</td>\n",
       "      <td>47.0</td>\n",
       "      <td>7.0000</td>\n",
       "      <td>1</td>\n",
       "      <td>0</td>\n",
       "      <td>0</td>\n",
       "      <td>1</td>\n",
       "    </tr>\n",
       "    <tr>\n",
       "      <th>2</th>\n",
       "      <td>894</td>\n",
       "      <td>2</td>\n",
       "      <td>62.0</td>\n",
       "      <td>9.6875</td>\n",
       "      <td>0</td>\n",
       "      <td>1</td>\n",
       "      <td>1</td>\n",
       "      <td>0</td>\n",
       "    </tr>\n",
       "    <tr>\n",
       "      <th>3</th>\n",
       "      <td>895</td>\n",
       "      <td>3</td>\n",
       "      <td>27.0</td>\n",
       "      <td>8.6625</td>\n",
       "      <td>0</td>\n",
       "      <td>1</td>\n",
       "      <td>0</td>\n",
       "      <td>1</td>\n",
       "    </tr>\n",
       "    <tr>\n",
       "      <th>4</th>\n",
       "      <td>896</td>\n",
       "      <td>3</td>\n",
       "      <td>22.0</td>\n",
       "      <td>12.2875</td>\n",
       "      <td>2</td>\n",
       "      <td>0</td>\n",
       "      <td>0</td>\n",
       "      <td>1</td>\n",
       "    </tr>\n",
       "    <tr>\n",
       "      <th>...</th>\n",
       "      <td>...</td>\n",
       "      <td>...</td>\n",
       "      <td>...</td>\n",
       "      <td>...</td>\n",
       "      <td>...</td>\n",
       "      <td>...</td>\n",
       "      <td>...</td>\n",
       "      <td>...</td>\n",
       "    </tr>\n",
       "    <tr>\n",
       "      <th>413</th>\n",
       "      <td>1305</td>\n",
       "      <td>3</td>\n",
       "      <td>39.0</td>\n",
       "      <td>8.0500</td>\n",
       "      <td>0</td>\n",
       "      <td>1</td>\n",
       "      <td>0</td>\n",
       "      <td>1</td>\n",
       "    </tr>\n",
       "    <tr>\n",
       "      <th>414</th>\n",
       "      <td>1306</td>\n",
       "      <td>1</td>\n",
       "      <td>39.0</td>\n",
       "      <td>108.9000</td>\n",
       "      <td>0</td>\n",
       "      <td>0</td>\n",
       "      <td>0</td>\n",
       "      <td>0</td>\n",
       "    </tr>\n",
       "    <tr>\n",
       "      <th>415</th>\n",
       "      <td>1307</td>\n",
       "      <td>3</td>\n",
       "      <td>38.5</td>\n",
       "      <td>7.2500</td>\n",
       "      <td>0</td>\n",
       "      <td>1</td>\n",
       "      <td>0</td>\n",
       "      <td>1</td>\n",
       "    </tr>\n",
       "    <tr>\n",
       "      <th>416</th>\n",
       "      <td>1308</td>\n",
       "      <td>3</td>\n",
       "      <td>38.5</td>\n",
       "      <td>8.0500</td>\n",
       "      <td>0</td>\n",
       "      <td>1</td>\n",
       "      <td>0</td>\n",
       "      <td>1</td>\n",
       "    </tr>\n",
       "    <tr>\n",
       "      <th>417</th>\n",
       "      <td>1309</td>\n",
       "      <td>3</td>\n",
       "      <td>38.5</td>\n",
       "      <td>22.3583</td>\n",
       "      <td>2</td>\n",
       "      <td>1</td>\n",
       "      <td>0</td>\n",
       "      <td>0</td>\n",
       "    </tr>\n",
       "  </tbody>\n",
       "</table>\n",
       "<p>418 rows × 8 columns</p>\n",
       "</div>"
      ],
      "text/plain": [
       "     PassengerId  Pclass   Age      Fare  Family_members  male  Q  S\n",
       "0            892       3  34.5    7.8292               0     1  1  0\n",
       "1            893       3  47.0    7.0000               1     0  0  1\n",
       "2            894       2  62.0    9.6875               0     1  1  0\n",
       "3            895       3  27.0    8.6625               0     1  0  1\n",
       "4            896       3  22.0   12.2875               2     0  0  1\n",
       "..           ...     ...   ...       ...             ...   ... .. ..\n",
       "413         1305       3  39.0    8.0500               0     1  0  1\n",
       "414         1306       1  39.0  108.9000               0     0  0  0\n",
       "415         1307       3  38.5    7.2500               0     1  0  1\n",
       "416         1308       3  38.5    8.0500               0     1  0  1\n",
       "417         1309       3  38.5   22.3583               2     1  0  0\n",
       "\n",
       "[418 rows x 8 columns]"
      ]
     },
     "execution_count": 74,
     "metadata": {},
     "output_type": "execute_result"
    }
   ],
   "source": [
    "x_test"
   ]
  },
  {
   "cell_type": "code",
   "execution_count": 75,
   "id": "yellow-polish",
   "metadata": {
    "execution": {
     "iopub.execute_input": "2022-03-01T10:39:21.073349Z",
     "iopub.status.busy": "2022-03-01T10:39:21.072712Z",
     "iopub.status.idle": "2022-03-01T10:39:21.076220Z",
     "shell.execute_reply": "2022-03-01T10:39:21.076629Z",
     "shell.execute_reply.started": "2022-03-01T10:37:55.828026Z"
    },
    "papermill": {
     "duration": 0.082785,
     "end_time": "2022-03-01T10:39:21.076796",
     "exception": false,
     "start_time": "2022-03-01T10:39:20.994011",
     "status": "completed"
    },
    "tags": []
   },
   "outputs": [
    {
     "data": {
      "text/plain": [
       "0      0\n",
       "1      1\n",
       "2      1\n",
       "3      1\n",
       "4      0\n",
       "      ..\n",
       "886    0\n",
       "887    1\n",
       "888    0\n",
       "889    1\n",
       "890    0\n",
       "Name: Survived, Length: 891, dtype: int64"
      ]
     },
     "execution_count": 75,
     "metadata": {},
     "output_type": "execute_result"
    }
   ],
   "source": [
    "y_train"
   ]
  },
  {
   "cell_type": "code",
   "execution_count": 76,
   "id": "minor-agent",
   "metadata": {
    "execution": {
     "iopub.execute_input": "2022-03-01T10:39:21.248434Z",
     "iopub.status.busy": "2022-03-01T10:39:21.247635Z",
     "iopub.status.idle": "2022-03-01T10:39:21.251753Z",
     "shell.execute_reply": "2022-03-01T10:39:21.252820Z",
     "shell.execute_reply.started": "2022-03-01T10:37:57.346603Z"
    },
    "papermill": {
     "duration": 0.099825,
     "end_time": "2022-03-01T10:39:21.253264",
     "exception": false,
     "start_time": "2022-03-01T10:39:21.153439",
     "status": "completed"
    },
    "tags": []
   },
   "outputs": [],
   "source": [
    "# logreg = LogisticRegression(solver='lbfgs', max_iter=400)\n",
    "# logreg.fit(x_train, y_train)\n",
    "# y_pred = logreg.predict(x_test)"
   ]
  },
  {
   "cell_type": "code",
   "execution_count": 77,
   "id": "emotional-accent",
   "metadata": {
    "execution": {
     "iopub.execute_input": "2022-03-01T10:39:21.444530Z",
     "iopub.status.busy": "2022-03-01T10:39:21.443587Z",
     "iopub.status.idle": "2022-03-01T10:39:21.703097Z",
     "shell.execute_reply": "2022-03-01T10:39:21.702317Z",
     "shell.execute_reply.started": "2022-03-01T10:37:59.122222Z"
    },
    "papermill": {
     "duration": 0.35238,
     "end_time": "2022-03-01T10:39:21.703289",
     "exception": false,
     "start_time": "2022-03-01T10:39:21.350909",
     "status": "completed"
    },
    "tags": []
   },
   "outputs": [],
   "source": [
    "model = RandomForestClassifier()\n",
    "model.fit(x_train, y_train)\n",
    "y_pred = model.predict(x_test)"
   ]
  },
  {
   "cell_type": "code",
   "execution_count": 78,
   "id": "racial-roberts",
   "metadata": {
    "execution": {
     "iopub.execute_input": "2022-03-01T10:39:21.894302Z",
     "iopub.status.busy": "2022-03-01T10:39:21.892751Z",
     "iopub.status.idle": "2022-03-01T10:39:21.899449Z",
     "shell.execute_reply": "2022-03-01T10:39:21.899919Z",
     "shell.execute_reply.started": "2022-03-01T10:38:02.130565Z"
    },
    "papermill": {
     "duration": 0.092272,
     "end_time": "2022-03-01T10:39:21.900112",
     "exception": false,
     "start_time": "2022-03-01T10:39:21.807840",
     "status": "completed"
    },
    "tags": []
   },
   "outputs": [],
   "source": [
    "my_submission = pd.DataFrame({'PassengerId': test_data.PassengerId, 'Survived': y_pred})\n",
    "my_submission.to_csv('gender_submission.csv', index=False)"
   ]
  },
  {
   "cell_type": "code",
   "execution_count": null,
   "id": "integrated-journalism",
   "metadata": {
    "papermill": {
     "duration": 0.072507,
     "end_time": "2022-03-01T10:39:22.048854",
     "exception": false,
     "start_time": "2022-03-01T10:39:21.976347",
     "status": "completed"
    },
    "tags": []
   },
   "outputs": [],
   "source": []
  }
 ],
 "metadata": {
  "kernelspec": {
   "display_name": "Python 3",
   "language": "python",
   "name": "python3"
  },
  "language_info": {
   "codemirror_mode": {
    "name": "ipython",
    "version": 3
   },
   "file_extension": ".py",
   "mimetype": "text/x-python",
   "name": "python",
   "nbconvert_exporter": "python",
   "pygments_lexer": "ipython3",
   "version": "3.7.10"
  },
  "papermill": {
   "default_parameters": {},
   "duration": 23.73325,
   "end_time": "2022-03-01T10:39:22.934147",
   "environment_variables": {},
   "exception": null,
   "input_path": "__notebook__.ipynb",
   "output_path": "__notebook__.ipynb",
   "parameters": {},
   "start_time": "2022-03-01T10:38:59.200897",
   "version": "2.3.3"
  }
 },
 "nbformat": 4,
 "nbformat_minor": 5
}
